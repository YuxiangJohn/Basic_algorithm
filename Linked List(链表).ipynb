{
 "cells": [
  {
   "cell_type": "markdown",
   "metadata": {},
   "source": [
    "# Linked List (链表)"
   ]
  },
  {
   "cell_type": "markdown",
   "metadata": {},
   "source": [
    "## 单链表反转"
   ]
  },
  {
   "cell_type": "code",
   "execution_count": 12,
   "metadata": {
    "collapsed": true
   },
   "outputs": [],
   "source": [
    "class ListNode:\n",
    "    def __init__(self, x):\n",
    "        self.val = x\n",
    "        self.next = None"
   ]
  },
  {
   "cell_type": "code",
   "execution_count": 26,
   "metadata": {},
   "outputs": [
    {
     "name": "stdout",
     "output_type": "stream",
     "text": [
      "1\n",
      "2\n",
      "3\n",
      "4\n"
     ]
    }
   ],
   "source": [
    "head = ListNode(1)\n",
    "p1 = ListNode(2)\n",
    "p2 = ListNode(3)\n",
    "p3 = ListNode(4)\n",
    "head.next = p1\n",
    "p1.next = p2\n",
    "p2.next = p3\n",
    "\n",
    "p=head\n",
    "while p:\n",
    "    print(p.val)\n",
    "    p=p.next"
   ]
  },
  {
   "cell_type": "code",
   "execution_count": 28,
   "metadata": {},
   "outputs": [
    {
     "data": {
      "text/plain": [
       "<__main__.ListNode at 0x2512a9224a8>"
      ]
     },
     "execution_count": 28,
     "metadata": {},
     "output_type": "execute_result"
    }
   ],
   "source": [
    "head.next.next"
   ]
  },
  {
   "cell_type": "markdown",
   "metadata": {},
   "source": [
    "使用辅助数组：使用数组先储存顺序的链表值，然后从数组尾部读取元素建立新的单链表\n",
    "时间复杂度： O(n), 空间复杂度： O(n)"
   ]
  },
  {
   "cell_type": "code",
   "execution_count": 21,
   "metadata": {},
   "outputs": [
    {
     "data": {
      "text/plain": [
       "[4, 3, 2, 1, 0]"
      ]
     },
     "execution_count": 21,
     "metadata": {},
     "output_type": "execute_result"
    }
   ],
   "source": [
    "arr=[0,1,2,3,4]\n",
    "arr[::-1]"
   ]
  },
  {
   "cell_type": "code",
   "execution_count": 24,
   "metadata": {
    "collapsed": true
   },
   "outputs": [],
   "source": [
    "def reverse(head):\n",
    "    if head is None or head.next is None:\n",
    "        return head\n",
    "    arr = []\n",
    "    while head:\n",
    "        arr.append(head.val)\n",
    "        head = head.next\n",
    "        \n",
    "    newhead = ListNode(0) #随便初始化一个链表节点\n",
    "    tmp = newhead\n",
    "    for i in arr[::-1]:\n",
    "        tmp.next = ListNode(i)\n",
    "        tmp=tmp.next\n",
    "    return newhead.next #去掉随便初始化的节点"
   ]
  },
  {
   "cell_type": "code",
   "execution_count": 25,
   "metadata": {},
   "outputs": [
    {
     "name": "stdout",
     "output_type": "stream",
     "text": [
      "4\n",
      "3\n",
      "2\n",
      "1\n"
     ]
    }
   ],
   "source": [
    "p = reverse(head)\n",
    "while p:\n",
    "    print(p.val)\n",
    "    p=p.next"
   ]
  },
  {
   "cell_type": "markdown",
   "metadata": {},
   "source": [
    "循环实现: 使用pre指向前一个节点，cur指向当前简单，每次把cur->next 指向pre.\n",
    "时间复杂度： O(n), 空间复杂度： O(1)"
   ]
  },
  {
   "cell_type": "code",
   "execution_count": 13,
   "metadata": {
    "collapsed": true
   },
   "outputs": [],
   "source": [
    "def reverse(head):\n",
    "    if head is None or head.next is None:\n",
    "        return head\n",
    "    pre = None\n",
    "    cur = head\n",
    "    h = head\n",
    "    while cur:\n",
    "        h = cur\n",
    "        tmp = cur.next\n",
    "        cur.next = pre\n",
    "        pre = cur\n",
    "        cur = tmp\n",
    "    return h"
   ]
  },
  {
   "cell_type": "code",
   "execution_count": 15,
   "metadata": {},
   "outputs": [
    {
     "name": "stdout",
     "output_type": "stream",
     "text": [
      "4\n",
      "3\n",
      "2\n",
      "1\n"
     ]
    }
   ],
   "source": [
    "p = reverse(head)\n",
    "while p:\n",
    "    print(p.val)\n",
    "    p=p.next"
   ]
  },
  {
   "cell_type": "markdown",
   "metadata": {},
   "source": [
    "递归实现： 从第一个点开始翻转，转换下一个节点开始翻转直到剩下一个节点\n",
    "时间复杂度： O(n), 空间复杂度： O(1)"
   ]
  },
  {
   "cell_type": "code",
   "execution_count": 31,
   "metadata": {
    "collapsed": true
   },
   "outputs": [],
   "source": [
    "def reverse(head):\n",
    "    if head is None or head.next is None:\n",
    "        return head\n",
    "    else:\n",
    "        newhead = reverse(head.next)\n",
    "        head.next.next = head\n",
    "        head.next = None\n",
    "    return newhead"
   ]
  },
  {
   "cell_type": "code",
   "execution_count": 32,
   "metadata": {},
   "outputs": [
    {
     "name": "stdout",
     "output_type": "stream",
     "text": [
      "4\n",
      "3\n",
      "2\n",
      "1\n"
     ]
    }
   ],
   "source": [
    "p = reverse(head)\n",
    "while p:\n",
    "    print(p.val)\n",
    "    p=p.next"
   ]
  },
  {
   "cell_type": "code",
   "execution_count": null,
   "metadata": {
    "collapsed": true
   },
   "outputs": [],
   "source": []
  }
 ],
 "metadata": {
  "kernelspec": {
   "display_name": "Python 3",
   "language": "python",
   "name": "python3"
  },
  "language_info": {
   "codemirror_mode": {
    "name": "ipython",
    "version": 3
   },
   "file_extension": ".py",
   "mimetype": "text/x-python",
   "name": "python",
   "nbconvert_exporter": "python",
   "pygments_lexer": "ipython3",
   "version": "3.5.2"
  },
  "widgets": {
   "state": {},
   "version": "1.1.2"
  }
 },
 "nbformat": 4,
 "nbformat_minor": 2
}
