{
 "cells": [
  {
   "cell_type": "markdown",
   "metadata": {},
   "source": [
    "# 二叉树的遍历"
   ]
  },
  {
   "cell_type": "markdown",
   "metadata": {},
   "source": [
    "## 创建二叉树"
   ]
  },
  {
   "cell_type": "code",
   "execution_count": 1,
   "metadata": {
    "collapsed": true
   },
   "outputs": [],
   "source": [
    "class TreeNode:\n",
    "    def __init__(self, x):\n",
    "        self.val = x\n",
    "        self.left = None\n",
    "        self.right = None"
   ]
  },
  {
   "cell_type": "code",
   "execution_count": 4,
   "metadata": {
    "collapsed": true
   },
   "outputs": [],
   "source": [
    "def create(root):\n",
    "    a = input('enter a key:');\n",
    "    if a is '#':\n",
    "        root = None;\n",
    "    else:\n",
    "        root = TreeNode(a);\n",
    "        root.left = create(root.left)\n",
    "        root.right = create(root.right)\n",
    "    return root"
   ]
  },
  {
   "cell_type": "code",
   "execution_count": 5,
   "metadata": {},
   "outputs": [
    {
     "name": "stdout",
     "output_type": "stream",
     "text": [
      "enter a key:2\n",
      "enter a key:1\n",
      "enter a key:4\n",
      "enter a key:#\n",
      "enter a key:#\n",
      "enter a key:2\n",
      "enter a key:#\n",
      "enter a key:#\n",
      "enter a key:3\n",
      "enter a key:#\n",
      "enter a key:#\n"
     ]
    }
   ],
   "source": [
    "root = None\n",
    "root = create(root)"
   ]
  },
  {
   "cell_type": "markdown",
   "metadata": {},
   "source": [
    "## 递归遍历"
   ]
  },
  {
   "cell_type": "markdown",
   "metadata": {},
   "source": [
    "### 前序\n",
    "中左右"
   ]
  },
  {
   "cell_type": "code",
   "execution_count": 8,
   "metadata": {
    "collapsed": true
   },
   "outputs": [],
   "source": [
    "def preorder(root):\n",
    "    if root is None:\n",
    "        return None\n",
    "    else:\n",
    "        print(root.val)\n",
    "        preorder(root.left)\n",
    "        preorder(root.right)\n",
    "    "
   ]
  },
  {
   "cell_type": "code",
   "execution_count": 9,
   "metadata": {},
   "outputs": [
    {
     "name": "stdout",
     "output_type": "stream",
     "text": [
      "2\n",
      "1\n",
      "4\n",
      "2\n",
      "3\n"
     ]
    }
   ],
   "source": [
    "preorder(root)"
   ]
  },
  {
   "cell_type": "markdown",
   "metadata": {},
   "source": [
    "### 中序"
   ]
  },
  {
   "cell_type": "markdown",
   "metadata": {},
   "source": [
    "左中右"
   ]
  },
  {
   "cell_type": "code",
   "execution_count": 12,
   "metadata": {
    "collapsed": true
   },
   "outputs": [],
   "source": [
    "def inorder(root):\n",
    "    if root is None:\n",
    "        return None\n",
    "    else:\n",
    "        inorder(root.left)\n",
    "        print(root.val)\n",
    "        inorder(root.right)"
   ]
  },
  {
   "cell_type": "code",
   "execution_count": 13,
   "metadata": {},
   "outputs": [
    {
     "name": "stdout",
     "output_type": "stream",
     "text": [
      "4\n",
      "1\n",
      "2\n",
      "2\n",
      "3\n"
     ]
    }
   ],
   "source": [
    "inorder(root)"
   ]
  },
  {
   "cell_type": "markdown",
   "metadata": {},
   "source": [
    "### 后序"
   ]
  },
  {
   "cell_type": "markdown",
   "metadata": {},
   "source": [
    "左右中"
   ]
  },
  {
   "cell_type": "code",
   "execution_count": 15,
   "metadata": {
    "collapsed": true
   },
   "outputs": [],
   "source": [
    "def postorder(root):\n",
    "    if root is None:\n",
    "        return None\n",
    "    else:\n",
    "        postorder(root.left)\n",
    "        postorder(root.right)\n",
    "        print(root.val)"
   ]
  },
  {
   "cell_type": "code",
   "execution_count": 16,
   "metadata": {},
   "outputs": [
    {
     "name": "stdout",
     "output_type": "stream",
     "text": [
      "4\n",
      "2\n",
      "1\n",
      "3\n",
      "2\n"
     ]
    }
   ],
   "source": [
    "postorder(root)"
   ]
  },
  {
   "cell_type": "markdown",
   "metadata": {},
   "source": [
    "## 非递归遍历"
   ]
  },
  {
   "cell_type": "markdown",
   "metadata": {},
   "source": [
    "### 前序\n",
    "中左右"
   ]
  },
  {
   "cell_type": "markdown",
   "metadata": {},
   "source": [
    "##### 1.将根节点入栈\n",
    "\n",
    "##### 2. 弹出栈顶元素，并依次检查右，然后左子节点（先右后左！！），依次入栈。\n",
    "\n",
    "##### 3. 重复2直到栈为空"
   ]
  },
  {
   "cell_type": "code",
   "execution_count": 29,
   "metadata": {
    "collapsed": true
   },
   "outputs": [],
   "source": [
    "def preorder(root):  \n",
    "    if root is None:\n",
    "        return None\n",
    "    stack = []\n",
    "    stack.append(root)\n",
    "    while len(stack):\n",
    "        tmp = stack.pop()\n",
    "        print(tmp.val)\n",
    "        if tmp.right:\n",
    "            stack.append(tmp.right)\n",
    "        if tmp.left:\n",
    "            stack.append(tmp.left)\n",
    "        "
   ]
  },
  {
   "cell_type": "code",
   "execution_count": 28,
   "metadata": {
    "collapsed": true
   },
   "outputs": [],
   "source": [
    "def preorder(root):\n",
    "    if not root:\n",
    "        return None\n",
    "    pre = []\n",
    "    rst = []\n",
    "    pre.append(root)\n",
    "    while len(pre):\n",
    "        tmp = pre.pop()\n",
    "        rst.append(tmp.val)\n",
    "        if tmp.right:\n",
    "            pre.append(tmp.right)\n",
    "        if tmp.left:\n",
    "            pre.append(tmp.left)\n",
    "    return rst"
   ]
  },
  {
   "cell_type": "code",
   "execution_count": 36,
   "metadata": {},
   "outputs": [
    {
     "name": "stdout",
     "output_type": "stream",
     "text": [
      "2\n",
      "1\n",
      "4\n",
      "2\n",
      "3\n"
     ]
    }
   ],
   "source": [
    "preorder(root)"
   ]
  },
  {
   "cell_type": "markdown",
   "metadata": {},
   "source": [
    "### 中序"
   ]
  },
  {
   "cell_type": "markdown",
   "metadata": {},
   "source": [
    "左中右"
   ]
  },
  {
   "cell_type": "markdown",
   "metadata": {},
   "source": [
    "##### 1. 当前节点为根节点\n",
    "\n",
    "##### 2. 不为空则入栈，当前节点为左节点，如果节点为空在则栈顶出栈并另打印，另当前为有节点\n",
    "\n",
    "##### 3. 重复2直到栈为并且当前节点为空"
   ]
  },
  {
   "cell_type": "code",
   "execution_count": 45,
   "metadata": {
    "collapsed": true
   },
   "outputs": [],
   "source": [
    "def inorder(root):\n",
    "    if root is None:\n",
    "        return None\n",
    "    stack = []\n",
    "    cur = root\n",
    "    while len(stack) or cur:\n",
    "            if cur:\n",
    "                stack.append(cur)\n",
    "                cur = cur.left\n",
    "            else:\n",
    "                cur = stack.pop()\n",
    "                print(cur.val)\n",
    "                cur = cur.right\n",
    "        \n",
    "            "
   ]
  },
  {
   "cell_type": "code",
   "execution_count": 43,
   "metadata": {
    "collapsed": true
   },
   "outputs": [],
   "source": [
    "def inorder(root):\n",
    "    if root is None:\n",
    "        return None  \n",
    "    cur = root\n",
    "    stack = []\n",
    "    res = []\n",
    "    while stack or cur:\n",
    "        if cur:\n",
    "            stack.append(cur)\n",
    "            cur = cur.left\n",
    "        else:\n",
    "            cur = stack.pop()\n",
    "            #res.append(cur.val)\n",
    "            print(cur.val)\n",
    "            cur = cur.right\n",
    "    return res"
   ]
  },
  {
   "cell_type": "code",
   "execution_count": 46,
   "metadata": {},
   "outputs": [
    {
     "name": "stdout",
     "output_type": "stream",
     "text": [
      "4\n",
      "1\n",
      "2\n",
      "2\n",
      "3\n"
     ]
    }
   ],
   "source": [
    "inorder(root)"
   ]
  },
  {
   "cell_type": "markdown",
   "metadata": {},
   "source": [
    "### 后序"
   ]
  },
  {
   "cell_type": "markdown",
   "metadata": {},
   "source": [
    "左右中"
   ]
  },
  {
   "cell_type": "code",
   "execution_count": 49,
   "metadata": {
    "collapsed": true
   },
   "outputs": [],
   "source": [
    "def postorder(root):\n",
    "    cur = None\n",
    "    stack1 = [root]\n",
    "    stack2 = []\n",
    "    res = []\n",
    "    while stack1:\n",
    "        cur = stack1.pop()\n",
    "        stack2.append(cur)\n",
    "        if cur.left:\n",
    "            stack1.append(cur.left)\n",
    "        if cur.right:\n",
    "            stack1.append(cur.right)\n",
    "        while stack2:\n",
    "            res.append(stack2.pop().val)\n",
    "    return res"
   ]
  },
  {
   "cell_type": "code",
   "execution_count": 50,
   "metadata": {},
   "outputs": [
    {
     "data": {
      "text/plain": [
       "['2', '3', '1', '2', '4']"
      ]
     },
     "execution_count": 50,
     "metadata": {},
     "output_type": "execute_result"
    }
   ],
   "source": [
    "postorder(root)"
   ]
  },
  {
   "cell_type": "code",
   "execution_count": null,
   "metadata": {
    "collapsed": true
   },
   "outputs": [],
   "source": []
  }
 ],
 "metadata": {
  "kernelspec": {
   "display_name": "Python 3",
   "language": "python",
   "name": "python3"
  },
  "language_info": {
   "codemirror_mode": {
    "name": "ipython",
    "version": 3
   },
   "file_extension": ".py",
   "mimetype": "text/x-python",
   "name": "python",
   "nbconvert_exporter": "python",
   "pygments_lexer": "ipython3",
   "version": "3.5.2"
  },
  "widgets": {
   "state": {},
   "version": "1.1.2"
  }
 },
 "nbformat": 4,
 "nbformat_minor": 2
}
