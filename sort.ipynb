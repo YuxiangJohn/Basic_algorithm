{
 "cells": [
  {
   "cell_type": "code",
   "execution_count": null,
   "metadata": {
    "collapsed": true
   },
   "outputs": [],
   "source": []
  },
  {
   "cell_type": "code",
   "execution_count": 2,
   "metadata": {},
   "outputs": [],
   "source": [
    "#冒泡排序\n",
    "def bubble_sort(listtosort):\n",
    "    new_list = listtosort\n",
    "    list_len = len(listtosort)\n",
    "    for i in range(list_len-1):\n",
    "        for j in range(list_len-1, i, -1):\n",
    "            if new_list[j] < new_list[j-1]:\n",
    "                new_list[j],new_list[j-1] = new_list[j-1],new_list[j]\n",
    "    return new_list\n",
    "        "
   ]
  },
  {
   "cell_type": "code",
   "execution_count": 3,
   "metadata": {},
   "outputs": [
    {
     "data": {
      "text/plain": [
       "[2, 4, 8, 13, 14, 26, 27, 28, 33, 35]"
      ]
     },
     "execution_count": 3,
     "metadata": {},
     "output_type": "execute_result"
    }
   ],
   "source": [
    "test = [27,33,28,4,2,26,13,35,8,14]\n",
    "bubble_sort(test)"
   ]
  },
  {
   "cell_type": "code",
   "execution_count": 8,
   "metadata": {},
   "outputs": [
    {
     "name": "stdout",
     "output_type": "stream",
     "text": [
      "before sort: [6, 8, 1, 4, 3, 9, 5, 4, 11, 2, 2, 15, 6]\n",
      "after sort: [1, 2, 2, 3, 4, 4, 5, 6, 6, 8, 9, 11, 15]\n"
     ]
    }
   ],
   "source": [
    "def parttion(v, left, right):\n",
    "    key = v[left]\n",
    "    low = left\n",
    "    high = right\n",
    "    while low < high:\n",
    "        while v[high] >= key:\n",
    "        #while (low < high) and (v[high] >= key):\n",
    "            high -= 1\n",
    "        v[low] = v[high]\n",
    "        while (low < high) and (v[low] <= key):\n",
    "            low += 1\n",
    "        v[high] = v[low]\n",
    "        v[low] = key\n",
    "    return low\n",
    "def quicksort(v, left, right):\n",
    "    if left < right:\n",
    "        p = parttion(v, left, right)\n",
    "        quicksort(v, left, p-1)\n",
    "        quicksort(v, p+1, right)\n",
    "    return v\n",
    "\n",
    "s = [6, 8, 1, 4, 3, 9, 5, 4, 11, 2, 2, 15, 6]\n",
    "print(\"before sort:\",s)\n",
    "s1 = quicksort(s, left = 0, right = len(s) - 1)\n",
    "print(\"after sort:\",s1)"
   ]
  },
  {
   "cell_type": "code",
   "execution_count": 19,
   "metadata": {
    "collapsed": true
   },
   "outputs": [],
   "source": [
    "#quick sort\n",
    "def quickSort(L, low, high):\n",
    "    i = low \n",
    "    j = high\n",
    "    if i >= j:\n",
    "        return L\n",
    "    key = L[i]\n",
    "    while i < j:\n",
    "        while i < j and L[j] >= key:\n",
    "            j -=1                                                            \n",
    "        L[i] = L[j]\n",
    "        while i < j and L[i] <= key:    \n",
    "            i +=1 \n",
    "        L[j] = L[i]\n",
    "    L[i] = key \n",
    "    quickSort(L, low, i-1)\n",
    "    quickSort(L, i+1, high)\n",
    "    return L"
   ]
  },
  {
   "cell_type": "code",
   "execution_count": 20,
   "metadata": {},
   "outputs": [
    {
     "data": {
      "text/plain": [
       "[1, 2, 2, 3, 4, 4, 5, 6, 6, 8, 9, 11, 15]"
      ]
     },
     "execution_count": 20,
     "metadata": {},
     "output_type": "execute_result"
    }
   ],
   "source": [
    "s = [6, 8, 1, 4, 3, 9, 5, 4, 11, 2, 2, 15, 6]\n",
    "quickSort(s, 0, len(s)-1)"
   ]
  },
  {
   "cell_type": "code",
   "execution_count": null,
   "metadata": {
    "collapsed": true
   },
   "outputs": [],
   "source": []
  },
  {
   "cell_type": "code",
   "execution_count": 26,
   "metadata": {},
   "outputs": [
    {
     "data": {
      "text/plain": [
       "[1, 2, 3, 4, 5, 6, 7, 8, 9, 10]"
      ]
     },
     "execution_count": 26,
     "metadata": {},
     "output_type": "execute_result"
    }
   ],
   "source": [
    "#quick sort\n",
    "def quickSort(L, low, high):\n",
    "    i = low \n",
    "    j = high\n",
    "    if i >= j:\n",
    "        return L\n",
    "    key = L[i]\n",
    "    while i < j:\n",
    "        while i < j and L[j] >= key:\n",
    "            j -=1                                                            \n",
    "        L[i] = L[j]\n",
    "        while i < j and L[i] <= key:    \n",
    "            i +=1 \n",
    "        L[j] = L[i]\n",
    "    L[i] = key \n",
    "    quickSort(L, low, i-1)\n",
    "    quickSort(L, j+1, high)\n",
    "    return L\n",
    "s = [10,9,8,7,6,5,4,3,2,1]\n",
    "quickSort(s, 0, len(s)-1)"
   ]
  },
  {
   "cell_type": "code",
   "execution_count": 27,
   "metadata": {},
   "outputs": [
    {
     "data": {
      "text/plain": [
       "[1, 2, 3, 4, 5, 6, 7, 8, 9, 10]"
      ]
     },
     "execution_count": 27,
     "metadata": {},
     "output_type": "execute_result"
    }
   ],
   "source": [
    "#quick sort\n",
    "def quickSort(L, low, high):\n",
    "    i = low \n",
    "    j = high\n",
    "    if i >= j:\n",
    "        return L\n",
    "    key = L[i]\n",
    "    while i < j:\n",
    "        while i < j and L[j] >= key:\n",
    "            j -=1                                                            \n",
    "        L[i] = L[j]\n",
    "        while i < j and L[i] <= key:    \n",
    "            i +=1 \n",
    "        L[j] = L[i]\n",
    "    L[i] = key \n",
    "    quickSort(L, low, i-1)\n",
    "    quickSort(L, i+1, high)\n",
    "    return L\n",
    "s = [10,9,8,7,6,5,4,3,2,1]\n",
    "quickSort(s, 0, len(s)-1)"
   ]
  },
  {
   "cell_type": "code",
   "execution_count": 28,
   "metadata": {},
   "outputs": [
    {
     "name": "stdout",
     "output_type": "stream",
     "text": [
      "[-99, -2, 0, 1, 3, 4, 5, 5, 6, 7, 7, 7, 9]\n"
     ]
    }
   ],
   "source": [
    "#merge sort\n",
    "\n",
    "def mergesort(seq):\n",
    "    if len(seq)<=1:\n",
    "        return seq\n",
    "    mid=int(len(seq)/2)\n",
    "    left=mergesort(seq[:mid])\n",
    "    right=mergesort(seq[mid:])\n",
    "    return merge(left,right)\n",
    "\n",
    "def merge(left,right):\n",
    "    result=[]\n",
    "    i,j=0,0\n",
    "    while i<len(left) and j<len(right):\n",
    "        if left[i]<=right[j]:\n",
    "            result.append(left[i])\n",
    "            i+=1\n",
    "        else:\n",
    "            result.append(right[j])\n",
    "            j+=1\n",
    "    result+=left[i:]\n",
    "    result+=right[j:]\n",
    "    return result\n",
    "\n",
    "\n",
    "seq=[4,5,7,9,7,5,1,0,7,-2,3,-99,6]\n",
    "print(mergesort(seq))\n",
    "\n",
    "\n"
   ]
  },
  {
   "cell_type": "code",
   "execution_count": 29,
   "metadata": {},
   "outputs": [
    {
     "data": {
      "text/plain": [
       "[4, 5, 7, 9, 7, 5]"
      ]
     },
     "execution_count": 29,
     "metadata": {},
     "output_type": "execute_result"
    }
   ],
   "source": [
    " mid=int(len(seq)/2)\n",
    "seq[:mid]"
   ]
  },
  {
   "cell_type": "code",
   "execution_count": 30,
   "metadata": {},
   "outputs": [
    {
     "data": {
      "text/plain": [
       "13"
      ]
     },
     "execution_count": 30,
     "metadata": {},
     "output_type": "execute_result"
    }
   ],
   "source": [
    "len(seq)"
   ]
  },
  {
   "cell_type": "code",
   "execution_count": 31,
   "metadata": {},
   "outputs": [
    {
     "data": {
      "text/plain": [
       "6"
      ]
     },
     "execution_count": 31,
     "metadata": {},
     "output_type": "execute_result"
    }
   ],
   "source": [
    "int(len(seq)/2)"
   ]
  },
  {
   "cell_type": "code",
   "execution_count": 34,
   "metadata": {},
   "outputs": [
    {
     "name": "stdout",
     "output_type": "stream",
     "text": [
      "[3, 4, 5, 7, 8, 9]\n"
     ]
    }
   ],
   "source": [
    " def merge(a, b):\n",
    "    c = []\n",
    "    h = j = 0\n",
    "    while j < len(a) and h < len(b):\n",
    "        if a[j] < b[h]:\n",
    "            c.append(a[j])\n",
    "            j += 1\n",
    "        else:\n",
    "            c.append(b[h])\n",
    "            h += 1\n",
    "\n",
    "    if j == len(a):\n",
    "        for i in b[h:]:\n",
    "            c.append(i)\n",
    "    else:\n",
    "        for i in a[j:]:\n",
    "            c.append(i)\n",
    "\n",
    "    return c\n",
    "\n",
    "\n",
    "def merge_sort(lists):\n",
    "    if len(lists) <= 1:\n",
    "        return lists\n",
    "    middle = int(len(lists)/2\n",
    "    left = merge_sort(lists[:middle])\n",
    "    right = merge_sort(lists[middle:])\n",
    "    return merge(left, right)\n",
    "\n",
    "\n",
    "a = [4, 7, 8, 3, 5, 9]\n",
    "print(merge_sort(a))"
   ]
  },
  {
   "cell_type": "code",
   "execution_count": 37,
   "metadata": {},
   "outputs": [
    {
     "data": {
      "text/plain": [
       "[1, 2, 3, 4, 5, 6]"
      ]
     },
     "execution_count": 37,
     "metadata": {},
     "output_type": "execute_result"
    }
   ],
   "source": [
    "result = [1,2,3]\n",
    "result+=[4,5,6]\n",
    "result"
   ]
  },
  {
   "cell_type": "code",
   "execution_count": 38,
   "metadata": {},
   "outputs": [
    {
     "ename": "NameError",
     "evalue": "name 'raw_input' is not defined",
     "output_type": "error",
     "traceback": [
      "\u001b[1;31m---------------------------------------------------------------------------\u001b[0m",
      "\u001b[1;31mNameError\u001b[0m                                 Traceback (most recent call last)",
      "\u001b[1;32m<ipython-input-38-3e8be81b72f9>\u001b[0m in \u001b[0;36m<module>\u001b[1;34m()\u001b[0m\n\u001b[1;32m----> 1\u001b[1;33m \u001b[0ma\u001b[0m\u001b[1;33m=\u001b[0m \u001b[0mraw_input\u001b[0m\u001b[1;33m(\u001b[0m\u001b[1;33m)\u001b[0m\u001b[1;33m\u001b[0m\u001b[0m\n\u001b[0m",
      "\u001b[1;31mNameError\u001b[0m: name 'raw_input' is not defined"
     ]
    }
   ],
   "source": [
    "a= raw_input()"
   ]
  },
  {
   "cell_type": "code",
   "execution_count": 39,
   "metadata": {},
   "outputs": [
    {
     "name": "stdout",
     "output_type": "stream",
     "text": [
      "1234\n"
     ]
    }
   ],
   "source": [
    "a=input()"
   ]
  },
  {
   "cell_type": "code",
   "execution_count": 40,
   "metadata": {},
   "outputs": [
    {
     "data": {
      "text/plain": [
       "'1234'"
      ]
     },
     "execution_count": 40,
     "metadata": {},
     "output_type": "execute_result"
    }
   ],
   "source": [
    "a"
   ]
  },
  {
   "cell_type": "code",
   "execution_count": 43,
   "metadata": {},
   "outputs": [
    {
     "data": {
      "text/plain": [
       "['1', '2', '3', '4']"
      ]
     },
     "execution_count": 43,
     "metadata": {},
     "output_type": "execute_result"
    }
   ],
   "source": [
    "b=list(a)\n",
    "b"
   ]
  },
  {
   "cell_type": "code",
   "execution_count": 44,
   "metadata": {},
   "outputs": [
    {
     "data": {
      "text/plain": [
       "2"
      ]
     },
     "execution_count": 44,
     "metadata": {},
     "output_type": "execute_result"
    }
   ],
   "source": [
    "int(a[1])"
   ]
  },
  {
   "cell_type": "code",
   "execution_count": null,
   "metadata": {
    "collapsed": true
   },
   "outputs": [],
   "source": [
    "def suanfa(M, N):\n",
    "    m_list = [i for i in range(M)]\n",
    "    n_list = [i for i in range(N)]\n",
    "    choose = [-1 for i in range(N)]\n",
    "    for i in range(N):\n",
    "        for j in range(M):\n",
    "            choose"
   ]
  },
  {
   "cell_type": "code",
   "execution_count": 45,
   "metadata": {
    "collapsed": true
   },
   "outputs": [],
   "source": [
    "m_list = [i for i in range(6)]"
   ]
  },
  {
   "cell_type": "code",
   "execution_count": 46,
   "metadata": {},
   "outputs": [
    {
     "data": {
      "text/plain": [
       "[0, 1, 2, 3, 4, 5]"
      ]
     },
     "execution_count": 46,
     "metadata": {},
     "output_type": "execute_result"
    }
   ],
   "source": [
    "m_list"
   ]
  },
  {
   "cell_type": "code",
   "execution_count": null,
   "metadata": {
    "collapsed": true
   },
   "outputs": [],
   "source": [
    "cout = M"
   ]
  },
  {
   "cell_type": "code",
   "execution_count": 47,
   "metadata": {},
   "outputs": [
    {
     "ename": "SyntaxError",
     "evalue": "invalid character in identifier (<ipython-input-47-40463e9ef7ee>, line 1)",
     "output_type": "error",
     "traceback": [
      "\u001b[1;36m  File \u001b[1;32m\"<ipython-input-47-40463e9ef7ee>\"\u001b[1;36m, line \u001b[1;32m1\u001b[0m\n\u001b[1;33m    把一个圆分成N个扇区，每个扇区可选M种颜色，相邻的扇区颜色不相同，有多少种涂法？\u001b[0m\n\u001b[1;37m                                           ^\u001b[0m\n\u001b[1;31mSyntaxError\u001b[0m\u001b[1;31m:\u001b[0m invalid character in identifier\n"
     ]
    }
   ],
   "source": [
    "把一个圆分成N个扇区，每个扇区可选M种颜色，相邻的扇区颜色不相同，有多少种涂法？"
   ]
  },
  {
   "cell_type": "code",
   "execution_count": null,
   "metadata": {
    "collapsed": true
   },
   "outputs": [],
   "source": []
  }
 ],
 "metadata": {
  "kernelspec": {
   "display_name": "Python 3",
   "language": "python",
   "name": "python3"
  },
  "language_info": {
   "codemirror_mode": {
    "name": "ipython",
    "version": 3
   },
   "file_extension": ".py",
   "mimetype": "text/x-python",
   "name": "python",
   "nbconvert_exporter": "python",
   "pygments_lexer": "ipython3",
   "version": "3.5.2"
  },
  "widgets": {
   "state": {},
   "version": "1.1.2"
  }
 },
 "nbformat": 4,
 "nbformat_minor": 2
}
