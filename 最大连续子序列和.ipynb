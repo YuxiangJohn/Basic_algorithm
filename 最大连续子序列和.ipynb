{
 "cells": [
  {
   "cell_type": "markdown",
   "metadata": {},
   "source": [
    "# 最大子序列求和问题"
   ]
  },
  {
   "cell_type": "code",
   "execution_count": 1,
   "metadata": {
    "collapsed": true
   },
   "outputs": [],
   "source": [
    "a = [4, -3, 5, -2, -1, 2, 6, -2]"
   ]
  },
  {
   "cell_type": "markdown",
   "metadata": {},
   "source": [
    "穷举法 O(n^3)"
   ]
  },
  {
   "cell_type": "code",
   "execution_count": 2,
   "metadata": {
    "collapsed": true
   },
   "outputs": [],
   "source": [
    "def maxSubSum(a):\n",
    "    maxsum = -300\n",
    "    for i in range(len(a)):\n",
    "        for j in range(i, len(a)):\n",
    "            thissum = 0\n",
    "            for k in range(i,j+1):\n",
    "                thissum += a[k]\n",
    "            if thissum > maxsum:\n",
    "                maxsum = thissum\n",
    "    return maxsum"
   ]
  },
  {
   "cell_type": "code",
   "execution_count": 3,
   "metadata": {},
   "outputs": [
    {
     "data": {
      "text/plain": [
       "11"
      ]
     },
     "execution_count": 3,
     "metadata": {},
     "output_type": "execute_result"
    }
   ],
   "source": [
    "maxSubSum(a)"
   ]
  },
  {
   "cell_type": "markdown",
   "metadata": {},
   "source": [
    "改良穷举法 O(n^2)"
   ]
  },
  {
   "cell_type": "code",
   "execution_count": 5,
   "metadata": {},
   "outputs": [],
   "source": [
    "def maxSubSum(a):\n",
    "    maxsum = -300\n",
    "    for i in range(len(a)):\n",
    "        thissum = 0\n",
    "        for j in range(i,len(a)):\n",
    "            thissum += a[j]\n",
    "            if thissum > maxsum:\n",
    "                maxsum = thissum\n",
    "    return maxsum\n"
   ]
  },
  {
   "cell_type": "code",
   "execution_count": 6,
   "metadata": {},
   "outputs": [
    {
     "data": {
      "text/plain": [
       "11"
      ]
     },
     "execution_count": 6,
     "metadata": {},
     "output_type": "execute_result"
    }
   ],
   "source": [
    "maxSubSum(a)"
   ]
  },
  {
   "cell_type": "markdown",
   "metadata": {},
   "source": [
    "递归 O(nlogn)"
   ]
  },
  {
   "cell_type": "markdown",
   "metadata": {},
   "source": [
    "将整个序列分为左右两个部分，最大子序列和可能出现在三处：左序列，右序列，跨中间。 前两种用递归求解，第三种的情况可以通过求出前半部分（包含前半部分最后一个元素）的最大值，和后半部分的（包括前半部分第一个元素）的最大和而得到。最后比较这三个取最大的那个"
   ]
  },
  {
   "cell_type": "code",
   "execution_count": 9,
   "metadata": {
    "collapsed": true
   },
   "outputs": [],
   "source": [
    "def maxSubSum(a, left, right):\n",
    "    if left == right:\n",
    "        if a[left] > 0:\n",
    "            return a[left]\n",
    "        else:\n",
    "            return 0\n",
    "    \n",
    "    mid = int((left + right)/2)\n",
    "    maxLeftSum = maxSubSum(a, left, mid)\n",
    "    maxRightSum = maxSubSum(a, mid+1, right)\n",
    "    \n",
    "    maxLeftBorderSum = 0\n",
    "    leftBorderSum = 0\n",
    "    for i in range(mid, left-1, -1):\n",
    "        leftBorderSum += a[i]\n",
    "        if maxLeftBorderSum < leftBorderSum:\n",
    "            maxLeftBorderSum = leftBorderSum\n",
    "            \n",
    "    maxRightBorderSum = 0\n",
    "    rightBorderSum = 0\n",
    "    for i in range(mid+1, right+1):\n",
    "        rightBorderSum += a[i]\n",
    "        if maxRightBorderSum < rightBorderSum:\n",
    "            maxRightBorderSum = rightBorderSum \n",
    "    \n",
    "    return max(maxLeftSum, maxRightSum, maxLeftBorderSum + maxRightBorderSum)"
   ]
  },
  {
   "cell_type": "code",
   "execution_count": 12,
   "metadata": {},
   "outputs": [
    {
     "data": {
      "text/plain": [
       "11"
      ]
     },
     "execution_count": 12,
     "metadata": {},
     "output_type": "execute_result"
    }
   ],
   "source": [
    "maxSubSum(a, 0, len(a)-1)"
   ]
  },
  {
   "cell_type": "markdown",
   "metadata": {},
   "source": [
    "动态规划：O(n)"
   ]
  },
  {
   "cell_type": "code",
   "execution_count": 15,
   "metadata": {
    "collapsed": true
   },
   "outputs": [],
   "source": [
    "def maxSubSum(a):\n",
    "    maxSum = 0\n",
    "    thisSum = 0\n",
    "    for i in range(len(a)):\n",
    "        thisSum += a[i]\n",
    "        if thisSum > maxSum:\n",
    "            maxSum = thisSum\n",
    "        elif thisSum < 0:\n",
    "            thisSum=0\n",
    "    return maxSum"
   ]
  },
  {
   "cell_type": "code",
   "execution_count": 16,
   "metadata": {},
   "outputs": [
    {
     "data": {
      "text/plain": [
       "11"
      ]
     },
     "execution_count": 16,
     "metadata": {},
     "output_type": "execute_result"
    }
   ],
   "source": [
    "maxSubSum(a)"
   ]
  },
  {
   "cell_type": "code",
   "execution_count": null,
   "metadata": {
    "collapsed": true
   },
   "outputs": [],
   "source": []
  }
 ],
 "metadata": {
  "kernelspec": {
   "display_name": "Python 3",
   "language": "python",
   "name": "python3"
  },
  "language_info": {
   "codemirror_mode": {
    "name": "ipython",
    "version": 3
   },
   "file_extension": ".py",
   "mimetype": "text/x-python",
   "name": "python",
   "nbconvert_exporter": "python",
   "pygments_lexer": "ipython3",
   "version": "3.5.2"
  },
  "widgets": {
   "state": {},
   "version": "1.1.2"
  }
 },
 "nbformat": 4,
 "nbformat_minor": 2
}
