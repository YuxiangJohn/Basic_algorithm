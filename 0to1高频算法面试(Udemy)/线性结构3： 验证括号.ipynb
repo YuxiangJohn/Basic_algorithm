{
 "cells": [
  {
   "cell_type": "markdown",
   "metadata": {},
   "source": [
    "# 合并数组"
   ]
  },
  {
   "cell_type": "markdown",
   "metadata": {},
   "source": [
    "给你一个包含括号的字符串，判断是否正确\n",
    "\n",
    "输入1：  \n",
    "equation = \"( [ ] [ ] { } )\"   \n",
    "输出1：  \n",
    "true\n",
    "\n",
    "输入2：  \n",
    "equation = \"( [ ) ]\"   \n",
    "输出2：  \n",
    "false"
   ]
  },
  {
   "cell_type": "markdown",
   "metadata": {},
   "source": [
    "# 题目解析\n",
    "如何是对如何使错，如何匹配。  \n",
    "如何数学表述。  \n",
    "使用什么数据结构最佳。  "
   ]
  },
  {
   "cell_type": "markdown",
   "metadata": {},
   "source": [
    "# 思路1"
   ]
  },
  {
   "cell_type": "markdown",
   "metadata": {},
   "source": [
    "从左到右进行扫描，如果扫描到一个最近的能够匹配，就把这两个擦掉，不能匹配则保留，然后继续向右。\n",
    "\n",
    "有什么数据结构能够往里放数据并且必要时候消掉最外面的数据？ --stack\n",
    "\n",
    "### 时间复杂度\n",
    "入栈与出栈都是O(n), 最终是O(n+n) = O(n)"
   ]
  },
  {
   "cell_type": "markdown",
   "metadata": {},
   "source": [
    "# 代码"
   ]
  },
  {
   "cell_type": "code",
   "execution_count": 20,
   "metadata": {
    "collapsed": true
   },
   "outputs": [],
   "source": [
    "# python\n",
    "\n",
    "def check(equation):\n",
    "    stack = []\n",
    "    for s in equation:\n",
    "        if stack == []:\n",
    "            stack.append(s)\n",
    "        else:\n",
    "            match = stack[-1]\n",
    "            if match == '{' and s == '}':\n",
    "                stack.pop()\n",
    "            elif match == '(' and s == ')':\n",
    "                stack.pop()\n",
    "            elif match == '[' and s == ']':\n",
    "                stack.pop()\n",
    "            else:\n",
    "                stack.append(s)\n",
    "    if stack == []:\n",
    "        return True\n",
    "    else:\n",
    "        return False"
   ]
  },
  {
   "cell_type": "code",
   "execution_count": 21,
   "metadata": {},
   "outputs": [
    {
     "data": {
      "text/plain": [
       "True"
      ]
     },
     "execution_count": 21,
     "metadata": {},
     "output_type": "execute_result"
    }
   ],
   "source": [
    "equation = \"([][]{})\" \n",
    "check(equation)"
   ]
  },
  {
   "cell_type": "code",
   "execution_count": 22,
   "metadata": {},
   "outputs": [
    {
     "data": {
      "text/plain": [
       "False"
      ]
     },
     "execution_count": 22,
     "metadata": {},
     "output_type": "execute_result"
    }
   ],
   "source": [
    "equation = \"([)]\" \n",
    "check(equation)"
   ]
  },
  {
   "cell_type": "code",
   "execution_count": 24,
   "metadata": {},
   "outputs": [
    {
     "data": {
      "text/plain": [
       "False"
      ]
     },
     "execution_count": 24,
     "metadata": {},
     "output_type": "execute_result"
    }
   ],
   "source": [
    "equation = \"([\" \n",
    "check(equation)"
   ]
  },
  {
   "cell_type": "code",
   "execution_count": 23,
   "metadata": {},
   "outputs": [
    {
     "data": {
      "text/plain": [
       "True"
      ]
     },
     "execution_count": 23,
     "metadata": {},
     "output_type": "execute_result"
    }
   ],
   "source": [
    "equation = \"\"\n",
    "check(equation)"
   ]
  },
  {
   "cell_type": "code",
   "execution_count": null,
   "metadata": {
    "collapsed": true
   },
   "outputs": [],
   "source": [
    "# Java\n",
    "\n",
    "import java.util.*;\n",
    "\n",
    "class Solution{\n",
    "    public boolean check(String equation){\n",
    "        Stack<Character> stack = new Stack<>();\n",
    "        for(char c: equation.toCharArray()){\n",
    "            switch(c){\n",
    "                case '(':\n",
    "                    stack.push(c);\n",
    "                    break;\n",
    "                case '[':\n",
    "                    stack.push(c);\n",
    "                    break; \n",
    "                case '{':\n",
    "                    stack.push(c);\n",
    "                    break;\n",
    "                case ')':\n",
    "                    if(stack.isEmpty() || stack.pop() != '('){\n",
    "                        return false;\n",
    "                    }\n",
    "                    break;\n",
    "                case ']':\n",
    "                    if(stack.isEmpty() || stack.pop() != '['){\n",
    "                        return false;\n",
    "                    }\n",
    "                    break;\n",
    "                case '}':\n",
    "                    if(stack.isEmpty() || stack.pop() != '{'){\n",
    "                        return false;\n",
    "                    }\n",
    "                    break;\n",
    "            }\n",
    "        }\n",
    "        return stack.size() == 0;\n",
    "\n",
    "    }\n",
    "}\n",
    "\n",
    "public class Main{\n",
    "    public static void main(String[] args){\n",
    "        Solution solution = new Solution();\n",
    "        System.out.println(solution.check(equation:\"(())\"));\n",
    "    }\n",
    "}"
   ]
  },
  {
   "cell_type": "markdown",
   "metadata": {},
   "source": [
    "# 思路2\n",
    "能不能用最初的想法，从左往右扫不停的扫描，每次扫描检测是否存在\"{}\";\"{}\";\"()\"并删除这些符号。\n",
    "\n",
    "### 时间复杂度\n",
    "扫一遍时间O(n), 每次需要删除的时间n/2,所以最坏时间复杂度是O(n^2),这个代码比较简洁符合思想。"
   ]
  },
  {
   "cell_type": "code",
   "execution_count": 35,
   "metadata": {
    "collapsed": true
   },
   "outputs": [],
   "source": [
    "def check(equation):\n",
    "    while \"()\" in equation or \"{}\" in equation or \"{}\" in equation:\n",
    "        equation = equation.replace(\"()\",'')\n",
    "        equation = equation.replace(\"{}\",'')\n",
    "        equation = equation.replace(\"[]\",'')\n",
    "    if equation == \"\":\n",
    "        return True\n",
    "    else:\n",
    "        return False\n",
    "        "
   ]
  },
  {
   "cell_type": "code",
   "execution_count": 36,
   "metadata": {},
   "outputs": [
    {
     "data": {
      "text/plain": [
       "True"
      ]
     },
     "execution_count": 36,
     "metadata": {},
     "output_type": "execute_result"
    }
   ],
   "source": [
    "equation = \"([][]{})\" \n",
    "check(equation)"
   ]
  },
  {
   "cell_type": "code",
   "execution_count": 37,
   "metadata": {},
   "outputs": [
    {
     "data": {
      "text/plain": [
       "True"
      ]
     },
     "execution_count": 37,
     "metadata": {},
     "output_type": "execute_result"
    }
   ],
   "source": [
    "equation = \"\"\n",
    "check(equation)"
   ]
  },
  {
   "cell_type": "code",
   "execution_count": 38,
   "metadata": {},
   "outputs": [
    {
     "data": {
      "text/plain": [
       "False"
      ]
     },
     "execution_count": 38,
     "metadata": {},
     "output_type": "execute_result"
    }
   ],
   "source": [
    "equation = \"([)]\" \n",
    "check(equation)"
   ]
  },
  {
   "cell_type": "code",
   "execution_count": null,
   "metadata": {
    "collapsed": true
   },
   "outputs": [],
   "source": [
    "# Java\n",
    "\n",
    "import java.util.*;\n",
    "\n",
    "class Solution{\n",
    "    public boolean check(String equation){\n",
    "        while(equation.contains(\"()\") || equation.contains(\"[]\") || equation.contains(\"{}\") ){\n",
    "            equation = equation.replace(target:\"()\", replacement:\"\");\n",
    "            equation = equation.replace(target:\"[]\", replacement:\"\");\n",
    "            equation = equation.replace(target:\"{}\", replacement:\"\");\n",
    "        }\n",
    "        return equation.length() == 0;\n",
    "\n",
    "    }\n",
    "}\n",
    "\n",
    "public class Main{\n",
    "    public static void main(String[] args){\n",
    "        Solution solution = new Solution();\n",
    "        System.out.println(solution.check(equation:\"(())\"));\n",
    "    }\n",
    "}"
   ]
  },
  {
   "cell_type": "markdown",
   "metadata": {},
   "source": [
    "# Follow up\n",
    "1. 如果考虑括号的层级关系，例如“([])” False, “[()]” True. 3,2,1级\n",
    "2. 如果带数字计算的 [6*（3+2）]\n"
   ]
  },
  {
   "cell_type": "markdown",
   "metadata": {},
   "source": [
    "# 总结\n",
    "考点：找到匹配规则。判断条件怎么写。\n",
    "\n",
    "双针模型：一个指向当前判断的，一个指向stack头部"
   ]
  },
  {
   "cell_type": "code",
   "execution_count": null,
   "metadata": {
    "collapsed": true
   },
   "outputs": [],
   "source": []
  }
 ],
 "metadata": {
  "kernelspec": {
   "display_name": "Python 3",
   "language": "python",
   "name": "python3"
  },
  "language_info": {
   "codemirror_mode": {
    "name": "ipython",
    "version": 3
   },
   "file_extension": ".py",
   "mimetype": "text/x-python",
   "name": "python",
   "nbconvert_exporter": "python",
   "pygments_lexer": "ipython3",
   "version": "3.5.2"
  },
  "widgets": {
   "state": {},
   "version": "1.1.2"
  }
 },
 "nbformat": 4,
 "nbformat_minor": 2
}
