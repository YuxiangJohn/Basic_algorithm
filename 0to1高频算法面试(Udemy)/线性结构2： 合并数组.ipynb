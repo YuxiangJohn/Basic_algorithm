{
 "cells": [
  {
   "cell_type": "markdown",
   "metadata": {},
   "source": [
    "# 合并数组"
   ]
  },
  {
   "cell_type": "markdown",
   "metadata": {},
   "source": [
    "有两个排序的数组，nums1和nums2, 将这两个数组合并成新的数组，并放入nums1中。\n",
    "\n",
    "输入：  \n",
    "nums1 = {4,5,7,10,0,0,0}  \n",
    "length1 = 4  \n",
    "\n",
    "nums2 = {3,6,11}  \n",
    "length2 = 3  \n",
    "\n",
    "输出：  \n",
    "{3,4,5,6,7,10.11}"
   ]
  },
  {
   "cell_type": "markdown",
   "metadata": {},
   "source": [
    "# 题目解析\n",
    "两个排序数组  \n",
    "比较排序后放入nums1\n",
    "通过length控制nums1中需要比较的元素"
   ]
  },
  {
   "cell_type": "markdown",
   "metadata": {},
   "source": [
    "# 思路1"
   ]
  },
  {
   "cell_type": "markdown",
   "metadata": {},
   "source": [
    "两个指针分别指向两个数组的首位，比较这两个元素的大小，放入一个新的数组num3中，元素较小的那个指针往后移动，知道length中的元素全部被放入num3\n",
    "\n",
    "缺点是需要创建一个新数组，然后copy数组到nums1中。  \n",
    "\n",
    "能否直接在num1中填空呢？"
   ]
  },
  {
   "cell_type": "markdown",
   "metadata": {},
   "source": [
    "# 思路2\n",
    "\n",
    "擦掉元素。比如3比4小，则把num1中4擦去，改为3. 此时4还应继续比较，所以使用新堆栈或者数组保存。能不能直接替换不申请新数组空间呢？\n",
    "\n",
    "在num1中擦去4换为3时，在num2中将3换成4. 但是这个是有问题的。 挪过去的数有可能比这个数组后面的数还大，所以会混乱。\n",
    "\n",
    "既然不能填在首位，那么我们可以利用后面的{，0,0,0}。但是考虑一个极端情况，num1 = {5,9,12,0,0,0}; num2 = {1,2,3}, 则 比较的时候num1变为{1,2,3,12,9,5}, 需要对后三个数进行换位。\n",
    "\n",
    "陷入了这个死胡同wrong end.\n",
    "\n",
    "问题出在哪呢？我们在思考的时候发现，只要比较时num2比num1中的元素小，则需要覆盖num1的元素。有没有不覆盖的方法呢？\n",
    "\n",
    "我们之前一直是从数组的正向进行比较，那么逆向呢？ 能不能比大放到最后呢？这样就不会覆盖元素了。"
   ]
  },
  {
   "cell_type": "markdown",
   "metadata": {},
   "source": [
    "# 代码"
   ]
  },
  {
   "cell_type": "code",
   "execution_count": 60,
   "metadata": {},
   "outputs": [],
   "source": [
    "# python\n",
    "\n",
    "def mergeArray(nums1, length1, nums2, length2):\n",
    "    pos1 = length1 - 1\n",
    "    pos2 = length2 - 1\n",
    "    last = len(nums1) - 1\n",
    "    while last != -1:\n",
    "        if pos1 == -1 or (pos2 != -1 and nums1[pos1] < nums2[pos2]):\n",
    "            nums1[last] = nums2[pos2]\n",
    "            pos2 -= 1\n",
    "            last -= 1\n",
    "        else:\n",
    "            nums1[last] = nums1[pos1]\n",
    "            pos1 -= 1\n",
    "            last -= 1\n",
    "    "
   ]
  },
  {
   "cell_type": "code",
   "execution_count": 61,
   "metadata": {},
   "outputs": [],
   "source": [
    "nums1 = [1,2,3,4,0,0,0]\n",
    "length1 = 4\n",
    "nums2 = [5,6,11]\n",
    "length2 = 3\n",
    "\n",
    "mergeArray(nums1, length1, nums2, length2)"
   ]
  },
  {
   "cell_type": "code",
   "execution_count": 62,
   "metadata": {},
   "outputs": [
    {
     "data": {
      "text/plain": [
       "[1, 2, 3, 4, 5, 6, 11]"
      ]
     },
     "execution_count": 62,
     "metadata": {},
     "output_type": "execute_result"
    }
   ],
   "source": [
    "nums1"
   ]
  },
  {
   "cell_type": "code",
   "execution_count": null,
   "metadata": {
    "collapsed": true
   },
   "outputs": [],
   "source": []
  },
  {
   "cell_type": "code",
   "execution_count": 63,
   "metadata": {},
   "outputs": [],
   "source": [
    "nums1 = [1,2,3,0,0,0]\n",
    "length1 = 3\n",
    "nums2 = [4,5,6]\n",
    "length2 = 3\n",
    "\n",
    "mergeArray(nums1, length1, nums2, length2)"
   ]
  },
  {
   "cell_type": "code",
   "execution_count": 64,
   "metadata": {},
   "outputs": [
    {
     "data": {
      "text/plain": [
       "[1, 2, 3, 4, 5, 6]"
      ]
     },
     "execution_count": 64,
     "metadata": {},
     "output_type": "execute_result"
    }
   ],
   "source": [
    "nums1"
   ]
  },
  {
   "cell_type": "code",
   "execution_count": 65,
   "metadata": {
    "collapsed": true
   },
   "outputs": [],
   "source": [
    "nums1 = [4,5,6,0,0,0]\n",
    "length1 = 3\n",
    "nums2 = [1,2,3]\n",
    "length2 = 3\n",
    "\n",
    "mergeArray(nums1, length1, nums2, length2)"
   ]
  },
  {
   "cell_type": "code",
   "execution_count": 66,
   "metadata": {},
   "outputs": [
    {
     "data": {
      "text/plain": [
       "[1, 2, 3, 4, 5, 6]"
      ]
     },
     "execution_count": 66,
     "metadata": {},
     "output_type": "execute_result"
    }
   ],
   "source": [
    "nums1"
   ]
  },
  {
   "cell_type": "code",
   "execution_count": null,
   "metadata": {
    "collapsed": true
   },
   "outputs": [],
   "source": []
  },
  {
   "cell_type": "code",
   "execution_count": null,
   "metadata": {
    "collapsed": true
   },
   "outputs": [],
   "source": [
    "# Java\n",
    "\n",
    "import java.util.*;\n",
    "\n",
    "class Solution{\n",
    "    public void mergeArray(int[] nums1, int length1, int[] nums2, int length2){\n",
    "        int pos1 = length1 - 1;\n",
    "        int pos2 = length2 - 1;\n",
    "        int last = nums1.length - 1;\n",
    "        while(last != -1){\n",
    "            if(pos1 = -1 || (pos2 != -1 && nums1[pos1]<nums2[pos2])){\n",
    "                nums1[last--] = nums2[pos2--]\n",
    "            }else{\n",
    "                nums1[last--] = nums1[pos1--]\n",
    "            }\n",
    "        }\n",
    "    }\n",
    "}\n",
    "\n",
    "public class Main{\n",
    "    public static void main(String[] args){\n",
    "        Solution solution = new Solution();\n",
    "        int[] nums1 = new int[]{4,5,6,0,0,0};\n",
    "        int length1 = 3;\n",
    "        int[] nums2 = new int[]{1,2,3};\n",
    "        int length2 = 3;\n",
    "        \n",
    "        for(int num: nums1){\n",
    "            System.out.println(num);\n",
    "        }\n",
    "    }\n",
    "}"
   ]
  },
  {
   "cell_type": "markdown",
   "metadata": {},
   "source": [
    "# Follow up\n",
    "1. 三个数组 （heap）, n个\n",
    "2. 从大到小的排序的两个数组\n",
    "3. 没有排序的"
   ]
  },
  {
   "cell_type": "markdown",
   "metadata": {},
   "source": [
    "# 总结\n",
    "考点：发现正面不行就背面突破，如何论证后面不会覆盖。\n",
    "\n",
    "双针模型\n",
    "\n",
    "特点，多出第三个针，指定放置（操作）位置。"
   ]
  },
  {
   "cell_type": "code",
   "execution_count": null,
   "metadata": {
    "collapsed": true
   },
   "outputs": [],
   "source": []
  }
 ],
 "metadata": {
  "kernelspec": {
   "display_name": "Python 3",
   "language": "python",
   "name": "python3"
  },
  "language_info": {
   "codemirror_mode": {
    "name": "ipython",
    "version": 3
   },
   "file_extension": ".py",
   "mimetype": "text/x-python",
   "name": "python",
   "nbconvert_exporter": "python",
   "pygments_lexer": "ipython3",
   "version": "3.5.2"
  },
  "widgets": {
   "state": {},
   "version": "1.1.2"
  }
 },
 "nbformat": 4,
 "nbformat_minor": 2
}
