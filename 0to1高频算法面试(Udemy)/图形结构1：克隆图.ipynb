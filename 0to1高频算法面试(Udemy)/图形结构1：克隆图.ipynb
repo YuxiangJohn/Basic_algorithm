{
 "cells": [
  {
   "cell_type": "markdown",
   "metadata": {},
   "source": [
    "# 题目"
   ]
  },
  {
   "cell_type": "markdown",
   "metadata": {},
   "source": [
    "\n",
    "克隆一个无向图\n",
    "\n",
    "\n",
    "输入：  \n",
    "node = {{1,2}, {0}, {0,2}}  \n",
    "  \n",
    "输出：  \n",
    "{{1,2}, {0}, {0,2}}   \n",
    "\n",
    "解释：  \n",
    "      0  \n",
    "     /\\  \n",
    "    1  2  \n",
    "       /\\  \n",
    "       \\/\n",
    "\n",
    "输入有三个节点， 第0个节点和第1个节点和第2个节点相连，第1个节点和第0个节点相连，第2个节点和第0个、第2个节点相连。  \n",
    "输出的结构相同，但是节点不一样。\n"
   ]
  },
  {
   "cell_type": "markdown",
   "metadata": {},
   "source": [
    "# 题目解析\n",
    "无向图其实可以看做双向连接的有向图。"
   ]
  },
  {
   "cell_type": "markdown",
   "metadata": {},
   "source": [
    "# 思路\n",
    "创建三个点，然后通过输入的关系进行连接\n",
    "Node\n",
    "{\n",
    "   neighbor\n",
    "}\n"
   ]
  },
  {
   "cell_type": "markdown",
   "metadata": {},
   "source": [
    "# 代码"
   ]
  },
  {
   "cell_type": "code",
   "execution_count": 28,
   "metadata": {
    "collapsed": false
   },
   "outputs": [],
   "source": [
    "# python\n",
    "\n",
    "\n",
    "#Node\n",
    "class Node:\n",
    "    def __init__(self):\n",
    "        self.neighbors = []\n",
    "\n",
    "#\n",
    "\n",
    "def buildGraph(relationships):\n",
    "    #创建一个node列表\n",
    "    nodes = []\n",
    "    \n",
    "    for i in range(len(relationships)):\n",
    "        nodes.append(Node())\n",
    "    \n",
    "    for i in range(len(relationships)):\n",
    "        for neighbor in relationships[i]:\n",
    "            nodes[i].neighbors.append(nodes[neighbor])\n",
    "        \n",
    "    return nodes[0]\n",
    "\n",
    "def cloneGraph1(node):\n",
    "    clonemap = {}\n",
    "    return cloneGraph(node, clonemap)\n",
    "\n",
    "def cloneGraph(node, clonemap):\n",
    "    if node in clonemap:\n",
    "        return clonemap.get(node)\n",
    "    clone = Node()\n",
    "    clonemap[node] = clone\n",
    "    for neighbor in node.neighbors:\n",
    "        clone.neighbors.append(cloneGraph(neighbor, clonemap))\n",
    "    return clone\n"
   ]
  },
  {
   "cell_type": "code",
   "execution_count": 19,
   "metadata": {
    "collapsed": true
   },
   "outputs": [],
   "source": [
    "relationships = [[1,2],[0], [0,2]]"
   ]
  },
  {
   "cell_type": "code",
   "execution_count": 20,
   "metadata": {
    "collapsed": true
   },
   "outputs": [],
   "source": [
    "a = buildGraph(relationships)"
   ]
  },
  {
   "cell_type": "code",
   "execution_count": 21,
   "metadata": {
    "collapsed": false
   },
   "outputs": [
    {
     "data": {
      "text/plain": [
       "<__main__.Node instance at 0x000000000637D948>"
      ]
     },
     "execution_count": 21,
     "metadata": {},
     "output_type": "execute_result"
    }
   ],
   "source": [
    "a"
   ]
  },
  {
   "cell_type": "code",
   "execution_count": 22,
   "metadata": {
    "collapsed": false
   },
   "outputs": [
    {
     "data": {
      "text/plain": [
       "<__main__.Node instance at 0x000000000637D888>"
      ]
     },
     "execution_count": 22,
     "metadata": {},
     "output_type": "execute_result"
    }
   ],
   "source": [
    "a.neighbors[0]"
   ]
  },
  {
   "cell_type": "code",
   "execution_count": 23,
   "metadata": {
    "collapsed": false
   },
   "outputs": [
    {
     "data": {
      "text/plain": [
       "<__main__.Node instance at 0x000000000637D988>"
      ]
     },
     "execution_count": 23,
     "metadata": {},
     "output_type": "execute_result"
    }
   ],
   "source": [
    "a.neighbors[1]"
   ]
  },
  {
   "cell_type": "code",
   "execution_count": 24,
   "metadata": {
    "collapsed": false
   },
   "outputs": [
    {
     "data": {
      "text/plain": [
       "[<__main__.Node instance at 0x000000000637D948>]"
      ]
     },
     "execution_count": 24,
     "metadata": {},
     "output_type": "execute_result"
    }
   ],
   "source": [
    "a.neighbors[0].neighbors"
   ]
  },
  {
   "cell_type": "code",
   "execution_count": 29,
   "metadata": {
    "collapsed": false
   },
   "outputs": [],
   "source": [
    "newa = cloneGraph1(a)"
   ]
  },
  {
   "cell_type": "code",
   "execution_count": 30,
   "metadata": {
    "collapsed": false
   },
   "outputs": [
    {
     "data": {
      "text/plain": [
       "<__main__.Node instance at 0x0000000006363448>"
      ]
     },
     "execution_count": 30,
     "metadata": {},
     "output_type": "execute_result"
    }
   ],
   "source": [
    "newa"
   ]
  },
  {
   "cell_type": "code",
   "execution_count": 31,
   "metadata": {
    "collapsed": false
   },
   "outputs": [
    {
     "data": {
      "text/plain": [
       "<__main__.Node instance at 0x00000000063633C8>"
      ]
     },
     "execution_count": 31,
     "metadata": {},
     "output_type": "execute_result"
    }
   ],
   "source": [
    "newa.neighbors[0]"
   ]
  },
  {
   "cell_type": "code",
   "execution_count": 32,
   "metadata": {
    "collapsed": false
   },
   "outputs": [
    {
     "data": {
      "text/plain": [
       "<__main__.Node instance at 0x0000000006363308>"
      ]
     },
     "execution_count": 32,
     "metadata": {},
     "output_type": "execute_result"
    }
   ],
   "source": [
    "newa.neighbors[1]"
   ]
  },
  {
   "cell_type": "code",
   "execution_count": 6,
   "metadata": {
    "collapsed": false
   },
   "outputs": [],
   "source": [
    "nodes = []\n",
    "nodes.append(Node())\n",
    "nodes.append(Node())"
   ]
  },
  {
   "cell_type": "code",
   "execution_count": 7,
   "metadata": {
    "collapsed": false
   },
   "outputs": [
    {
     "data": {
      "text/plain": [
       "[<__main__.Node instance at 0x000000000631E948>,\n",
       " <__main__.Node instance at 0x0000000004BCA988>]"
      ]
     },
     "execution_count": 7,
     "metadata": {},
     "output_type": "execute_result"
    }
   ],
   "source": [
    "nodes"
   ]
  },
  {
   "cell_type": "code",
   "execution_count": null,
   "metadata": {
    "collapsed": true
   },
   "outputs": [],
   "source": [
    "# Java\n",
    "import java.util.*;\n",
    "\n",
    "class Node{\n",
    "    List<Node> neighbors;\n",
    "    Node(){\n",
    "        neighbors = new ArrayList<>();\n",
    "    }\n",
    "}\n",
    "\n",
    "class Solution{\n",
    "    public Node buildGraph(int[][] relationships){\n",
    "        Node[] nodes = new Node[relationships.length];\n",
    "        for(int i=0; i<relationships.length; i++){\n",
    "            nodes[i] = new Node();\n",
    "        }\n",
    "        for(int i=0; i<relationships.length; i++){\n",
    "            for(int neighbor: relationships[i]){\n",
    "                nodes[i].neighbors.add(node[neighbor]);\n",
    "            }\n",
    "        }\n",
    "        return nodes[0];\n",
    "    }\n",
    "    \n",
    "    public Node cloneGraph(Node node){\n",
    "        HashMap<Node, Node> map = new HashMap<>();\n",
    "        \n",
    "    }\n",
    "    private Node cloneGraph(Node node, HashMap<Node, Node> map){\n",
    "        if(map.containsKey(Node)){\n",
    "            return map.get(node);\n",
    "        }\n",
    "        \n",
    "        Node clone - new Node();\n",
    "        map.put(node, clone)\n",
    "        for(Node neighbor: node.neighbors){\n",
    "            clone.neighbors.add(cloneGraph(neighbor, map));\n",
    "        }\n",
    "        return clone;\n",
    "    }\n",
    "}\n",
    "\n",
    "public class Main{\n",
    "    public static void main(String[] args){\n",
    "        Solution solution = new Solution();\n",
    "        int[][] relationships = {{1,2},{0},{0,2}};\n",
    "        Node node = solution.buildGraph(relationships)\n",
    "        Node newNode = solution.cloneGraph(node);\n",
    "        System.out.println(node);\n",
    "        \n",
    "    }\n",
    "}"
   ]
  },
  {
   "cell_type": "markdown",
   "metadata": {},
   "source": [
    "# Follow up\n",
    "\n",
    "1. 克隆有向图 （代码无变化）\n",
    "2. 克隆树 （基本不变）\n"
   ]
  },
  {
   "cell_type": "markdown",
   "metadata": {},
   "source": [
    "# 总结\n",
    "1. 如何构件图\n",
    "2. 所谓克隆就是建立一个原节点到新节点的mapping\n",
    "3. 一个节点必须先克隆出来以后才能连接\n",
    "\n",
    "遍历模型：\n",
    "1. node\n",
    "2. edge\n",
    "3. priority （DFS BFS A*）\n",
    "\n",
    "\n"
   ]
  },
  {
   "cell_type": "code",
   "execution_count": null,
   "metadata": {
    "collapsed": true
   },
   "outputs": [],
   "source": []
  }
 ],
 "metadata": {
  "kernelspec": {
   "display_name": "Python 2",
   "language": "python",
   "name": "python2"
  },
  "language_info": {
   "codemirror_mode": {
    "name": "ipython",
    "version": 2
   },
   "file_extension": ".py",
   "mimetype": "text/x-python",
   "name": "python",
   "nbconvert_exporter": "python",
   "pygments_lexer": "ipython2",
   "version": "2.7.13"
  }
 },
 "nbformat": 4,
 "nbformat_minor": 2
}
