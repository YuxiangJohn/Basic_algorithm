{
 "cells": [
  {
   "cell_type": "markdown",
   "metadata": {},
   "source": [
    "# 题目"
   ]
  },
  {
   "cell_type": "markdown",
   "metadata": {},
   "source": [
    "\n",
    "有个二叉树，还有两个节点，如何找到最近的祖先\n",
    "\n",
    "能否找到出现的第一个1.\n",
    "\n",
    "输入：  \n",
    "root = [1,2,3,-1,4,5,6]  \n",
    "value1 = 5  \n",
    "value2 = 6  \n",
    "\n",
    "解释：  \n",
    "      1  \n",
    "     /\\  \n",
    "    2  3  \n",
    "   /\\  /\\  \n",
    "null 4 5 6\n",
    " \n",
    "root对应的是一个树形结构，-1是null, 正整数代表节点的值，每个节点的值全局唯一。\n",
    "  \n",
    "输出：  \n",
    "3  "
   ]
  },
  {
   "cell_type": "markdown",
   "metadata": {},
   "source": [
    "# 题目解析\n",
    "如果value1=3， value2 = 6， 输出是3  \n",
    "如果value1=2, value2=6, 输出是1。"
   ]
  },
  {
   "cell_type": "markdown",
   "metadata": {},
   "source": [
    "# 思路1\n",
    "\n",
    "1. 首先要找到这个节点的值,使用DFS\n",
    "\n",
    "2. 如果从下向上，一个节点坐标有只则+1，右边有值也+1, 则最底层的拥有+2的值的节点就是公共祖先。所以要返回两个值，一个是返回的根节点的值value，一个是下面包含寻找的值的个数count（0；1；2）"
   ]
  },
  {
   "cell_type": "markdown",
   "metadata": {},
   "source": [
    "# 思路2"
   ]
  },
  {
   "cell_type": "markdown",
   "metadata": {},
   "source": [
    "\n",
    "如何简化思路1呢？\n",
    "\n",
    "思路1中需要返回的两个值，一个是计数count，一个是value. 我们最终要打印的是value。所以可以尝试把count省去，每次查找直接返回一个值。\n",
    "\n",
    "1. DFS\n",
    "\n",
    "2. 如果这个值不是搜索的值，则返回-1。\n",
    "\n",
    "3. 如果这个值等于搜索的值，则向上返回这个值\n",
    "\n",
    "4. 如果一个节点的值不等于搜索的值，但是它的左子节点或者右子节点返回了一个非-1的值，则向上返回这个子节点返回的值\n",
    "\n",
    "5. 如果两个子节点同时返回非-1的值，则返回当前节点的值。\n",
    "\n",
    "但是还有个bug.\n",
    "\n",
    "例如：\n",
    "      1  \n",
    "     /\\  \n",
    "    2  3  \n",
    "   /\\  /\\  \n",
    "null 4 5 6\n",
    "\n",
    "要寻的是3,5.\n",
    "\n",
    "此时5返回5给节点3，如果按照上面的传递法，3传递5给1. 所以要同时检查这个节点的值是不是需要的值，如果等于则直接表示都找到了，返回当前的节点值。\n"
   ]
  },
  {
   "cell_type": "markdown",
   "metadata": {},
   "source": [
    "还有一个问题，如何根据题目给的数组root, 构建出二叉树。可以看得出来为满二叉树（full），数组下标从0，...,6. 每一层的节点个数为2^L(第一层L=1),每一层的第一个节点下标为2^(L-1)-1. 由此推断出当前节点的左子节点下标为 n*2+1,右节点为n*2+2"
   ]
  },
  {
   "cell_type": "markdown",
   "metadata": {},
   "source": [
    "# 代码"
   ]
  },
  {
   "cell_type": "code",
   "execution_count": 19,
   "metadata": {
    "collapsed": true
   },
   "outputs": [],
   "source": [
    "# python\n",
    "\n",
    "#Node\n",
    "class TreeNode:\n",
    "    def __init__(self, x):\n",
    "        self.val = x\n",
    "        self.left = None\n",
    "        self.right = None\n",
    "\n",
    "#\n",
    "\n",
    "def buildTree(nums, pos):\n",
    "    if pos >= len(nums) or nums[pos] == -1:\n",
    "        return None\n",
    "    node = TreeNode(nums[pos])\n",
    "    node.left = buildTree(nums, pos*2+1)\n",
    "    node.right = buildTree(nums, pos*2+2)\n",
    "    return node\n",
    "\n",
    "def findAncestor(root, value1, value2):\n",
    "    #no finding\n",
    "    if root == None:\n",
    "        return -1\n",
    "    \n",
    "    if root.val == value1 or root.val == value2:\n",
    "        #root is matching, 1\n",
    "        #left/right => 0, return root.value\n",
    "        #left/right => 1, return root.value\n",
    "        return root.val\n",
    "    \n",
    "    leftValue = findAncestor(root.left, value1, value2)\n",
    "    rightValue = findAncestor(root.right, value1, value2)\n",
    "    \n",
    "    if leftValue != -1 and rightValue !=-1:\n",
    "        #find 2\n",
    "        return root.val\n",
    "    else:\n",
    "        #find 1 or 0\n",
    "        return leftValue + rightValue + 1 # small trick, return left or right as None is -1\n"
   ]
  },
  {
   "cell_type": "code",
   "execution_count": 20,
   "metadata": {
    "collapsed": false
   },
   "outputs": [],
   "source": [
    "nums = [1,2,3,-1,4,5,6]\n",
    "root = buildTree(nums, 0)"
   ]
  },
  {
   "cell_type": "code",
   "execution_count": 21,
   "metadata": {
    "collapsed": false
   },
   "outputs": [
    {
     "name": "stdout",
     "output_type": "stream",
     "text": [
      "1\n",
      "2\n",
      "3\n",
      "4\n"
     ]
    }
   ],
   "source": [
    "print(root.val)\n",
    "print(root.left.val)\n",
    "print(root.right.val)\n",
    "print(root.left.right.val)"
   ]
  },
  {
   "cell_type": "code",
   "execution_count": 23,
   "metadata": {
    "collapsed": false
   },
   "outputs": [
    {
     "data": {
      "text/plain": [
       "3"
      ]
     },
     "execution_count": 23,
     "metadata": {},
     "output_type": "execute_result"
    }
   ],
   "source": [
    "findAncestor(root, 6, 5)"
   ]
  },
  {
   "cell_type": "code",
   "execution_count": null,
   "metadata": {
    "collapsed": true
   },
   "outputs": [],
   "source": [
    "# Java\n",
    "import java.util.*;\n",
    "\n",
    "class Node{\n",
    "    int value;\n",
    "    Node left;\n",
    "    Node right;\n",
    "    Node(int value){\n",
    "        this.value = value;\n",
    "    }\n",
    "}\n",
    "\n",
    "class Solution{\n",
    "    public Node buildTree(int[] nums, int pos){\n",
    "        if(pos >= nums.length || nums[pos] == -1){\n",
    "            return null;\n",
    "        }\n",
    "        Node node = new Node(nums[pos]);\n",
    "        node.left = buildTree(nums, pos: pos:pos*2+1);\n",
    "        node.right = buildTree(nums, pos: pos:pos*2+2);\n",
    "        return Node;\n",
    "    }\n",
    "    public int findAncestor(Node root, int value1, value2){\n",
    "        if(root == null){\n",
    "            return -1;\n",
    "        }\n",
    "        \n",
    "        if(root.value == value1 || root.value == value2 ){\n",
    "            return root.value;\n",
    "        }\n",
    "        \n",
    "        int leftValue = findAncestor(root.left, value1, value2);\n",
    "        int rightValue = findAncestor(root.right, value1, value2);\n",
    "        \n",
    "        if(left.value != -1 && rightValue != -1){\n",
    "            return root.value;\n",
    "        }else{\n",
    "            return leftValue + rightValue + 1;\n",
    "        }\n",
    "    }\n",
    "}\n",
    "\n",
    "public class Main{\n",
    "    public static void main(String[] args){\n",
    "        Solution solution = new Solution();\n",
    "        Node root = solution.buildTree(new int[]{1,2,3,-1,4,5,6}, pos:0);\n",
    "        System.out.println(solution.findAncestor(root, value1:5, value2:6));\n",
    "    }\n",
    "}"
   ]
  },
  {
   "cell_type": "markdown",
   "metadata": {},
   "source": [
    "# Follow up\n",
    "\n",
    "1. 求三个值的共同祖先，k个呢？ 拆成2的子问题，或者用思路1的通用办法。\n"
   ]
  },
  {
   "cell_type": "markdown",
   "metadata": {},
   "source": [
    "# 总结\n",
    "分治模型，问题拆分。\n",
    "考点：1. 如何构建树 2. 从数学上定义共同祖先是谁（向上路径相遇第一个节点）"
   ]
  },
  {
   "cell_type": "code",
   "execution_count": null,
   "metadata": {
    "collapsed": true
   },
   "outputs": [],
   "source": []
  }
 ],
 "metadata": {
  "kernelspec": {
   "display_name": "Python 2",
   "language": "python",
   "name": "python2"
  },
  "language_info": {
   "codemirror_mode": {
    "name": "ipython",
    "version": 2
   },
   "file_extension": ".py",
   "mimetype": "text/x-python",
   "name": "python",
   "nbconvert_exporter": "python",
   "pygments_lexer": "ipython2",
   "version": "2.7.13"
  }
 },
 "nbformat": 4,
 "nbformat_minor": 2
}
