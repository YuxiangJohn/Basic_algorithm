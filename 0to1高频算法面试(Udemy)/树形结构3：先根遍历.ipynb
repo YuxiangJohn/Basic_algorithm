{
 "cells": [
  {
   "cell_type": "markdown",
   "metadata": {},
   "source": [
    "# 题目"
   ]
  },
  {
   "cell_type": "markdown",
   "metadata": {},
   "source": [
    "\n",
    "先根遍历二叉树\n",
    "\n",
    "\n",
    "输入：  \n",
    "root = [1,2,3,-1,4,5,6]  \n",
    "  \n",
    "输出：  \n",
    "{1,2,4,3,5,6} \n",
    "\n",
    "解释：  \n",
    "      1  \n",
    "     /\\  \n",
    "    2  3  \n",
    "   /\\  /\\  \n",
    "null 4 5 6\n",
    " \n",
    "root对应的是一个树形结构，-1是null, 正整数代表节点的值，每个节点的值全局唯一。"
   ]
  },
  {
   "cell_type": "markdown",
   "metadata": {},
   "source": [
    "# 题目解析\n",
    "遇到节点先打印根节点然后打印左右节点"
   ]
  },
  {
   "cell_type": "markdown",
   "metadata": {},
   "source": [
    "# 思路1 递归\n",
    "\n",
    "DFS(node):\n",
    "\n",
    "output node\n",
    "\n",
    "DFS node left\n",
    "DFS node right\n",
    "\n",
    "能不能不用函数调用（递归）的方法呢？\n"
   ]
  },
  {
   "cell_type": "markdown",
   "metadata": {},
   "source": [
    "# 思路2 非递归"
   ]
  },
  {
   "cell_type": "markdown",
   "metadata": {},
   "source": [
    "\n",
    "状态：两种方法：1.DFS递归调用  2. 记录状态栈\n",
    "\n",
    "\n",
    "visit 1 {output 1; visit 2; visit 3}\n",
    "\n",
    "使用方法2, 每一步要么是输出，要么是继续向下visit输出，我们可以使用一个记录栈来记录运行的过程\n",
    "\n",
    "例如visit1 (V1), 在task栈中变成三件事[O1, V2, V3]. O1出栈，result中写入[1]. 然后V2出栈，V2事件又分为事件[O2, V4]. 将V4,入栈. O2直接写入result，result中变为[1, 2]. 继续V4出栈，V4事件分为[O4]， 所以result写入[1,2,4]\n",
    "\n"
   ]
  },
  {
   "cell_type": "markdown",
   "metadata": {},
   "source": [
    "还有一个问题，如何根据题目给的数组root, 构建出二叉树。可以看得出来为满二叉树（full），数组下标从0，...,6. 每一层的节点个数为2^L(第一层L=1),每一层的第一个节点下标为2^(L-1)-1. 由此推断出当前节点的左子节点下标为 n*2+1,右节点为n*2+2"
   ]
  },
  {
   "cell_type": "markdown",
   "metadata": {},
   "source": [
    "# 代码"
   ]
  },
  {
   "cell_type": "code",
   "execution_count": 42,
   "metadata": {
    "collapsed": false
   },
   "outputs": [],
   "source": [
    "# python\n",
    "# 非递归状态栈\n",
    "\n",
    "#Node\n",
    "class TreeNode:\n",
    "    def __init__(self, x):\n",
    "        self.val = x\n",
    "        self.left = None\n",
    "        self.right = None\n",
    "\n",
    "#\n",
    "\n",
    "def buildTree(nums, pos):\n",
    "    if pos >= len(nums) or nums[pos] == -1:\n",
    "        return None\n",
    "    node = TreeNode(nums[pos])\n",
    "    node.left = buildTree(nums, pos*2+1)\n",
    "    node.right = buildTree(nums, pos*2+2)\n",
    "    return node\n",
    "\n",
    "def preorderTraversal(root):\n",
    "    stack = []\n",
    "    result = []\n",
    "    \n",
    "    #visit 0; output 1\n",
    "    if root == None:\n",
    "        return None\n",
    "    \n",
    "    element = Element(0, root)\n",
    "    stack.append(element)\n",
    "        \n",
    "    while len(stack) > 0:\n",
    "        curr = stack.pop()\n",
    "        #if curr.node == None:\n",
    "        #    continue\n",
    "            \n",
    "        if curr.state == 1:\n",
    "            result.append(curr.node.val)\n",
    "        else:\n",
    "            #add tree element. output self; visit left; visit right\n",
    "            #right\n",
    "            if curr.node.right != None:\n",
    "                element = Element(0, curr.node.right)\n",
    "                stack.append(element)\n",
    "            #left\n",
    "            if curr.node.left != None:\n",
    "                element = Element(0, curr.node.left)\n",
    "                stack.append(element)\n",
    "            #output self\n",
    "            element = Element(1, curr.node)\n",
    "            stack.append(element)\n",
    "    return result\n",
    "    \n",
    "class Element:\n",
    "    def __init__(self, s, n):\n",
    "        self.state = s\n",
    "        self.node = n\n"
   ]
  },
  {
   "cell_type": "code",
   "execution_count": 43,
   "metadata": {
    "collapsed": false
   },
   "outputs": [],
   "source": [
    "nums = [1,2,3,-1,4,5,6]\n",
    "root = buildTree(nums, 0)"
   ]
  },
  {
   "cell_type": "code",
   "execution_count": 44,
   "metadata": {
    "collapsed": false
   },
   "outputs": [
    {
     "data": {
      "text/plain": [
       "[1, 2, 4, 3, 5, 6]"
      ]
     },
     "execution_count": 44,
     "metadata": {},
     "output_type": "execute_result"
    }
   ],
   "source": [
    "preorderTraversal(root)"
   ]
  },
  {
   "cell_type": "code",
   "execution_count": 8,
   "metadata": {
    "collapsed": false
   },
   "outputs": [
    {
     "name": "stdout",
     "output_type": "stream",
     "text": [
      "1\n",
      "2\n",
      "3\n",
      "4\n"
     ]
    }
   ],
   "source": [
    "print(root.val)\n",
    "print(root.left.val)\n",
    "print(root.right.val)\n",
    "print(root.left.right.val)"
   ]
  },
  {
   "cell_type": "code",
   "execution_count": null,
   "metadata": {
    "collapsed": true
   },
   "outputs": [],
   "source": [
    "# Java\n",
    "import java.util.*;\n",
    "\n",
    "class Node{\n",
    "    int value;\n",
    "    Node left;\n",
    "    Node right;\n",
    "    Node(int value){\n",
    "        this.value = value;\n",
    "    }\n",
    "}\n",
    "\n",
    "class Solution{\n",
    "    public Node buildTree(int[] nums, int pos){\n",
    "        if(pos >= nums.length || nums[pos] == -1){\n",
    "            return null;\n",
    "        }\n",
    "        Node node = new Node(nums[pos]);\n",
    "        node.left = buildTree(nums, pos: pos:pos*2+1);\n",
    "        node.right = buildTree(nums, pos: pos:pos*2+2);\n",
    "        return Node;\n",
    "    }\n",
    "    public List<Integer> preorderTraversal(Node root){\n",
    "        List<Integer> result = new ArrayList<>();\n",
    "        Stack<Element> stack = new Stack<>(); // type, node\n",
    "        stack.push(new Element(type:0, root));\n",
    "        \n",
    "        while(!stack.isEmpty()){\n",
    "            ELement curr = stack.pop();\n",
    "            if(curr.node == null){\n",
    "                contiune;\n",
    "            }\n",
    "            if(curr.type == 1){\n",
    "                result.add(curr.node.value);\n",
    "            }else{\n",
    "                //add three element, output self, visit left, visit right\n",
    "                stack.push(new Element(type:0, curr.node.right));\n",
    "                stack.push(new Element(type:0, curr.node.left));\n",
    "                stack.push(new Element(type:1, curr.node));\n",
    "                \n",
    "            }\n",
    "        }\n",
    "        return result;\n",
    "    }\n",
    "    \n",
    "    private class Element{\n",
    "        int type; // 0 visit; 1 output\n",
    "        Node node;\n",
    "        Element(int type, Node node){\n",
    "            this.type = type;\n",
    "            this.node = node;\n",
    "        }\n",
    "    }\n",
    "}\n",
    "\n",
    "public class Main{\n",
    "    public static void main(String[] args){\n",
    "        Solution solution = new Solution();\n",
    "        Node root = solution.buildTree(new int[]{1,2,3,-1,4,5,6}, pos:0);\n",
    "        System.out.println(solution.preorderTraversal(root));\n",
    "    }\n",
    "}"
   ]
  },
  {
   "cell_type": "markdown",
   "metadata": {},
   "source": [
    "# Follow up\n",
    "\n",
    "1. 后根，中根。\n"
   ]
  },
  {
   "cell_type": "markdown",
   "metadata": {},
   "source": [
    "# 总结\n",
    "除了函数递归，使用任务栈来进行。把大任务分解，利用堆栈记录任务状态，来进行任务的优先排序。 被拆的任务如何插入堆栈中"
   ]
  },
  {
   "cell_type": "code",
   "execution_count": null,
   "metadata": {
    "collapsed": true
   },
   "outputs": [],
   "source": []
  }
 ],
 "metadata": {
  "kernelspec": {
   "display_name": "Python 2",
   "language": "python",
   "name": "python2"
  },
  "language_info": {
   "codemirror_mode": {
    "name": "ipython",
    "version": 2
   },
   "file_extension": ".py",
   "mimetype": "text/x-python",
   "name": "python",
   "nbconvert_exporter": "python",
   "pygments_lexer": "ipython2",
   "version": "2.7.13"
  }
 },
 "nbformat": 4,
 "nbformat_minor": 2
}
