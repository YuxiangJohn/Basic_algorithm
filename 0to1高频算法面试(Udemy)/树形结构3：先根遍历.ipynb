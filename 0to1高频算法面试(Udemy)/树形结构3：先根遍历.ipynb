{
 "cells": [
  {
   "cell_type": "markdown",
   "metadata": {},
   "source": [
    "# 题目"
   ]
  },
  {
   "cell_type": "markdown",
   "metadata": {},
   "source": [
    "\n",
    "先根遍历二叉树\n",
    "\n",
    "\n",
    "输入：  \n",
    "root = [1,2,3,-1,4,5,6]  \n",
    "  \n",
    "输出：  \n",
    "{1,2,4,3,5,6} \n",
    "\n",
    "解释：  \n",
    "      1  \n",
    "     /\\  \n",
    "    2  3  \n",
    "   /\\  /\\  \n",
    "null 4 5 6\n",
    " \n",
    "root对应的是一个树形结构，-1是null, 正整数代表节点的值，每个节点的值全局唯一。"
   ]
  },
  {
   "cell_type": "markdown",
   "metadata": {},
   "source": [
    "# 题目解析\n",
    "遇到节点先打印根节点然后打印左右节点"
   ]
  },
  {
   "cell_type": "markdown",
   "metadata": {},
   "source": [
    "# 思路1 递归\n",
    "\n",
    "DFS(node):\n",
    "\n",
    "output node\n",
    "\n",
    "DFS node left\n",
    "DFS node right\n",
    "\n",
    "能不能不用函数调用（递归）的方法呢？\n"
   ]
  },
  {
   "cell_type": "markdown",
   "metadata": {},
   "source": [
    "# 思路2 非递归"
   ]
  },
  {
   "cell_type": "markdown",
   "metadata": {},
   "source": [
    "\n",
    "状态：两种方法：1.DFS递归调用  2. 记录状态栈\n",
    "\n",
    "\n",
    "visit 1 {output 1; visit 2; visit 3}\n",
    "\n",
    "使用方法2, 每一步要么是输出，要么是继续向下visit输出，我们可以使用一个记录栈来记录运行的过程\n",
    "\n",
    "例如visit1 (V1), 在task栈中变成三件事[O1, V2, V3]. O1出栈，result中写入[1]. 然后V2出栈，V2事件又分为事件[O2, V4]. 将V4,入栈. O2直接写入result，result中变为[1, 2]. 继续V4出栈，V4事件分为[O4]， 所以result写入[1,2,4]\n",
    "\n"
   ]
  },
  {
   "cell_type": "markdown",
   "metadata": {},
   "source": [
    "还有一个问题，如何根据题目给的数组root, 构建出二叉树。可以看得出来为满二叉树（full），数组下标从0，...,6. 每一层的节点个数为2^L(第一层L=1),每一层的第一个节点下标为2^(L-1)-1. 由此推断出当前节点的左子节点下标为 n*2+1,右节点为n*2+2"
   ]
  },
  {
   "cell_type": "markdown",
   "metadata": {},
   "source": [
    "# 代码"
   ]
  },
  {
   "cell_type": "code",
   "execution_count": 37,
   "metadata": {
    "collapsed": false
   },
   "outputs": [],
   "source": [
    "# python\n",
    "# 非递归状态栈\n",
    "\n",
    "#Node\n",
    "class TreeNode:\n",
    "    def __init__(self, x):\n",
    "        self.val = x\n",
    "        self.left = None\n",
    "        self.right = None\n",
    "\n",
    "#\n",
    "\n",
    "def buildTree(nums, pos):\n",
    "    if pos >= len(nums) or nums[pos] == -1:\n",
    "        return None\n",
    "    node = TreeNode(nums[pos])\n",
    "    node.left = buildTree(nums, pos*2+1)\n",
    "    node.right = buildTree(nums, pos*2+2)\n",
    "    return node\n",
    "\n",
    "def preorderTraversal(root):\n",
    "    stack = []\n",
    "    result = []\n",
    "    \n",
    "    #visit 0; output 1\n",
    "    if root == None:\n",
    "        return None\n",
    "    \n",
    "    element = Element(0, root)\n",
    "    stack.append(element)\n",
    "        \n",
    "    while len(stack) > 0:\n",
    "        curr = stack.pop()\n",
    "        if curr.node == None:\n",
    "            continue\n",
    "            \n",
    "        if curr.state == 1:\n",
    "            result.append(curr.node.val)\n",
    "        else:\n",
    "            #add tree element. output self; visit left; visit right\n",
    "            #right\n",
    "            if curr.node.right != None:\n",
    "                element = Element(0, curr.node.right)\n",
    "                stack.append(element)\n",
    "            #left\n",
    "            if curr.node.left != None:\n",
    "                element = Element(0, curr.node.left)\n",
    "                stack.append(element)\n",
    "            #output self\n",
    "            element = Element(1, curr.node)\n",
    "    return result\n",
    "    \n",
    "class Element:\n",
    "    def __init__(self, s, n):\n",
    "        self.state = s\n",
    "        self.node = n\n"
   ]
  },
  {
   "cell_type": "code",
   "execution_count": 34,
   "metadata": {
    "collapsed": false
   },
   "outputs": [],
   "source": [
    "nums = [1,2,3,-1,4,5,6]\n",
    "root = buildTree(nums, 0)"
   ]
  },
  {
   "cell_type": "code",
   "execution_count": 35,
   "metadata": {
    "collapsed": false
   },
   "outputs": [],
   "source": [
    "result = preorderTraversal(root)"
   ]
  },
  {
   "cell_type": "code",
   "execution_count": 36,
   "metadata": {
    "collapsed": false
   },
   "outputs": [
    {
     "data": {
      "text/plain": [
       "[]"
      ]
     },
     "execution_count": 36,
     "metadata": {},
     "output_type": "execute_result"
    }
   ],
   "source": [
    "result"
   ]
  },
  {
   "cell_type": "code",
   "execution_count": 18,
   "metadata": {
    "collapsed": false
   },
   "outputs": [],
   "source": [
    "stack = []\n",
    "element = Element(0, root)\n",
    "stack.append(element)"
   ]
  },
  {
   "cell_type": "code",
   "execution_count": 19,
   "metadata": {
    "collapsed": false
   },
   "outputs": [],
   "source": [
    "a = stack.pop()"
   ]
  },
  {
   "cell_type": "code",
   "execution_count": 21,
   "metadata": {
    "collapsed": false
   },
   "outputs": [
    {
     "data": {
      "text/plain": [
       "1"
      ]
     },
     "execution_count": 21,
     "metadata": {},
     "output_type": "execute_result"
    }
   ],
   "source": [
    "a.node.val"
   ]
  },
  {
   "cell_type": "code",
   "execution_count": 8,
   "metadata": {
    "collapsed": false
   },
   "outputs": [
    {
     "name": "stdout",
     "output_type": "stream",
     "text": [
      "1\n",
      "2\n",
      "3\n",
      "4\n"
     ]
    }
   ],
   "source": [
    "print(root.val)\n",
    "print(root.left.val)\n",
    "print(root.right.val)\n",
    "print(root.left.right.val)"
   ]
  },
  {
   "cell_type": "code",
   "execution_count": 9,
   "metadata": {
    "collapsed": false
   },
   "outputs": [
    {
     "ename": "AttributeError",
     "evalue": "'NoneType' object has no attribute 'val'",
     "output_type": "error",
     "traceback": [
      "\u001b[0;31m---------------------------------------------------------------------------\u001b[0m",
      "\u001b[0;31mAttributeError\u001b[0m                            Traceback (most recent call last)",
      "\u001b[0;32m<ipython-input-9-f3ddfd73509c>\u001b[0m in \u001b[0;36m<module>\u001b[0;34m()\u001b[0m\n\u001b[0;32m----> 1\u001b[0;31m \u001b[1;32mprint\u001b[0m\u001b[1;33m(\u001b[0m\u001b[0mroot\u001b[0m\u001b[1;33m.\u001b[0m\u001b[0mleft\u001b[0m\u001b[1;33m.\u001b[0m\u001b[0mleft\u001b[0m\u001b[1;33m.\u001b[0m\u001b[0mval\u001b[0m\u001b[1;33m)\u001b[0m\u001b[1;33m\u001b[0m\u001b[0m\n\u001b[0m",
      "\u001b[0;31mAttributeError\u001b[0m: 'NoneType' object has no attribute 'val'"
     ]
    }
   ],
   "source": [
    "print(root.left.left.val)"
   ]
  },
  {
   "cell_type": "code",
   "execution_count": 23,
   "metadata": {
    "collapsed": false
   },
   "outputs": [
    {
     "data": {
      "text/plain": [
       "3"
      ]
     },
     "execution_count": 23,
     "metadata": {},
     "output_type": "execute_result"
    }
   ],
   "source": [
    "findAncestor(root, 6, 5)"
   ]
  },
  {
   "cell_type": "code",
   "execution_count": null,
   "metadata": {
    "collapsed": true
   },
   "outputs": [],
   "source": [
    "# Java\n",
    "import java.util.*;\n",
    "\n",
    "class Node{\n",
    "    int value;\n",
    "    Node left;\n",
    "    Node right;\n",
    "    Node(int value){\n",
    "        this.value = value;\n",
    "    }\n",
    "}\n",
    "\n",
    "class Solution{\n",
    "    public Node buildTree(int[] nums, int pos){\n",
    "        if(pos >= nums.length || nums[pos] == -1){\n",
    "            return null;\n",
    "        }\n",
    "        Node node = new Node(nums[pos]);\n",
    "        node.left = buildTree(nums, pos: pos:pos*2+1);\n",
    "        node.right = buildTree(nums, pos: pos:pos*2+2);\n",
    "        return Node;\n",
    "    }\n",
    "    public int findAncestor(Node root, int value1, value2){\n",
    "        if(root == null){\n",
    "            return -1;\n",
    "        }\n",
    "        \n",
    "        if(root.value == value1 || root.value == value2 ){\n",
    "            return root.value;\n",
    "        }\n",
    "        \n",
    "        int leftValue = findAncestor(root.left, value1, value2);\n",
    "        int rightValue = findAncestor(root.right, value1, value2);\n",
    "        \n",
    "        if(left.value != -1 && rightValue != -1){\n",
    "            return root.value;\n",
    "        }else{\n",
    "            return leftValue + rightValue + 1;\n",
    "        }\n",
    "    }\n",
    "}\n",
    "\n",
    "public class Main{\n",
    "    public static void main(String[] args){\n",
    "        Solution solution = new Solution();\n",
    "        Node root = solution.buildTree(new int[]{1,2,3,-1,4,5,6}, pos:0);\n",
    "        System.out.println(solution.findAncestor(root, value1:5, value2:6));\n",
    "    }\n",
    "}"
   ]
  },
  {
   "cell_type": "markdown",
   "metadata": {},
   "source": [
    "# Follow up\n",
    "\n",
    "1. 求三个值的共同祖先，k个呢？ 拆成2的子问题，或者用思路1的通用办法。\n"
   ]
  },
  {
   "cell_type": "markdown",
   "metadata": {},
   "source": [
    "# 总结\n",
    "分治模型，问题拆分。\n",
    "考点：1. 如何构建树 2. 从数学上定义共同祖先是谁（向上路径相遇第一个节点）"
   ]
  },
  {
   "cell_type": "code",
   "execution_count": null,
   "metadata": {
    "collapsed": true
   },
   "outputs": [],
   "source": []
  }
 ],
 "metadata": {
  "kernelspec": {
   "display_name": "Python 2",
   "language": "python",
   "name": "python2"
  },
  "language_info": {
   "codemirror_mode": {
    "name": "ipython",
    "version": 2
   },
   "file_extension": ".py",
   "mimetype": "text/x-python",
   "name": "python",
   "nbconvert_exporter": "python",
   "pygments_lexer": "ipython2",
   "version": "2.7.13"
  }
 },
 "nbformat": 4,
 "nbformat_minor": 2
}
