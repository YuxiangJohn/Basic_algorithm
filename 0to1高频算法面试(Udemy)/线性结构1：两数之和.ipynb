{
 "cells": [
  {
   "cell_type": "markdown",
   "metadata": {},
   "source": [
    "# 题目\n",
    "有一个整数数组nums, 能否从中取出两个数，使得他们的和为target.\n",
    "\n",
    "输入1：  \n",
    "nums = [4, 5, 7, 10]  \n",
    "target = 12  \n",
    "输出1：  \n",
    "true  \n",
    "\n",
    "输入2：  \n",
    "nums = [4, 5, 7, 10]  \n",
    "target = 8  \n",
    "输出2：  \n",
    "false  "
   ]
  },
  {
   "cell_type": "markdown",
   "metadata": {},
   "source": [
    "# 题目解析\n",
    "问题：  \n",
    "数组是否排序？  \n",
    "同一个数字是否可重复使用？  \n",
    "数组中是否有相同数字？"
   ]
  },
  {
   "cell_type": "markdown",
   "metadata": {},
   "source": [
    "# 思路1\n",
    "## Brute force 暴力解法  \n",
    "面对双针模型，使用两个指针。\n",
    "\n",
    "指针1： 4\n",
    "指针2： 5,7,10\n",
    "\n",
    "指针1： 5\n",
    "指针2： 7, 10\n",
    "\n",
    "......\n",
    "\n",
    "#### 时间复杂度\n",
    "两个指针两个for循环，依次扫描n-1, n-2,...1. 所以是O(n^2).  \n",
    "#### 空间复杂度\n",
    "\n",
    "\n",
    "## 优化Brute force， 剪枝\n",
    "先排序sort()  \n",
    "在每次扫描的时候，如果指针1的值加指针2的值大于target,则直接跳过，指针1向后移动。\n",
    "#### 时间复杂度\n",
    "sort() 复杂度是O(nlogn)  \n",
    "依然是两个指针两个for循环，依次扫描n-1, n-2,...1. 所以是O(n^2). 其中有可能存在剪枝降低一定的复杂度，但是最坏情况仍然是O(n^2).\n",
    "\n",
    "## 优化Brute force，二分查找\n",
    "先排序sort()  \n",
    "使用指针1进行扫描，每次对指针1后面的元素进行二分查找target-指针1的元素  \n",
    "指针1: 4  \n",
    "在[5,7,10]中查找target - 4  \n",
    "（4,[5,7,10]）\n",
    "\n",
    "#### 时间复杂度\n",
    "sort() 复杂度是O(nlogn)\n",
    "\n",
    "外for循环复杂度O(n), 内循环复杂度O(logn), 所以是O(nlogn)  \n",
    "\n",
    "总体是O(nlogn)\n"
   ]
  },
  {
   "cell_type": "markdown",
   "metadata": {},
   "source": [
    "# 思路2\n",
    "\n",
    "思路1的方法在于sort()时间复杂度始终是一定的，无论for循环里如何提升，都无法突破O(nlogn).  \n",
    "比O(nlogn)还快就是O(n)了，所以我们放弃使用sort().  \n",
    "但是我们还需要在for循环的时候查找元素后面的数组是否有target-指针1的元素。  \n",
    "更快的查找方法是hash. hash 可以用O(1)的时间插入一个元素到hash列表里，同时用O(1)的复杂度查找出来。\n",
    "\n",
    "## 一个容易出错的想法\n",
    "假如把所有元素放入hash表，每次当进行4扫描的时候，在hash表中是否存在target-4 是否在hash中。  \n",
    "1：hash  \n",
    "2: target - num  \n",
    "\n",
    "但是假如target = 8 target - 4 = 4 , 4 在hash 中，输出的是true, 但是其实是不对的。每个元素必须与之前不存在的元素进行比较。  \n",
    "\n",
    "那么就在第一步进行hash表建立的时候中记录每个元素出现的个数。  \n",
    "[4:1, 5:1, 7:1, 10:1]\n",
    "假如target-4 = 4, 查找4发现4只出现过一次，则不对。\n",
    "假如[4:2, 5:1, 7:1, 10:1], 则通过。\n",
    "\n",
    "这种方法可以，但是很复杂。\n",
    "\n",
    "有没有方法可以用hash, 又不用去重复呢？\n",
    "\n",
    "每个元素都在看后面的元素是否有对应的值，\n",
    "[4, 5, 7, 10]\n",
    "指针从后向前，10， target=12, 12 - 10 = 2, hash 没有2，10入hash, [10]  \n",
    "向前，7， 12-7=5， hash表中没有5,，则7入hash,[7,10]\n",
    "向前， 5， 12-5 =7， hash中有7， 则true.\n",
    "\n",
    "从后向前其实和从前向后一样。所以可以从正面查找\n",
    "\n",
    "#### 时间复杂度\n",
    "每次查找和建表都是O(1),遍历所有元素O(n),所以最终复杂度为O(n)"
   ]
  },
  {
   "cell_type": "markdown",
   "metadata": {},
   "source": [
    "# 代码"
   ]
  },
  {
   "cell_type": "code",
   "execution_count": 16,
   "metadata": {
    "collapsed": true
   },
   "outputs": [],
   "source": [
    "# python\n",
    "# python 中的字典{}由哈希表实现可以使用字典\n",
    "\n",
    "def findTarget(nums, target):\n",
    "    findmap = {}\n",
    "    for num in nums:\n",
    "        value = target - num\n",
    "        if value in findmap:\n",
    "            return True\n",
    "        else:\n",
    "            findmap[num] = 1\n",
    "    return False"
   ]
  },
  {
   "cell_type": "markdown",
   "metadata": {},
   "source": [
    "# 测试"
   ]
  },
  {
   "cell_type": "code",
   "execution_count": 34,
   "metadata": {},
   "outputs": [
    {
     "data": {
      "text/plain": [
       "True"
      ]
     },
     "execution_count": 34,
     "metadata": {},
     "output_type": "execute_result"
    }
   ],
   "source": [
    "# 测试1\n",
    "nums = [4, 5, 7, 10]\n",
    "target = 12\n",
    "result = findTarget(nums,target)\n",
    "result"
   ]
  },
  {
   "cell_type": "code",
   "execution_count": 35,
   "metadata": {},
   "outputs": [
    {
     "data": {
      "text/plain": [
       "False"
      ]
     },
     "execution_count": 35,
     "metadata": {},
     "output_type": "execute_result"
    }
   ],
   "source": [
    "# 测试2\n",
    "nums = [4, 5, 7, 10]\n",
    "target = 8\n",
    "result = findTarget(nums,target)\n",
    "result"
   ]
  },
  {
   "cell_type": "code",
   "execution_count": 38,
   "metadata": {},
   "outputs": [
    {
     "data": {
      "text/plain": [
       "True"
      ]
     },
     "execution_count": 38,
     "metadata": {},
     "output_type": "execute_result"
    }
   ],
   "source": [
    "# 测试3\n",
    "nums = [-1, 1, 10, 3]\n",
    "target = 0\n",
    "result = findTarget(nums,target)\n",
    "result"
   ]
  },
  {
   "cell_type": "code",
   "execution_count": 37,
   "metadata": {},
   "outputs": [
    {
     "data": {
      "text/plain": [
       "False"
      ]
     },
     "execution_count": 37,
     "metadata": {},
     "output_type": "execute_result"
    }
   ],
   "source": [
    "# 测试4\n",
    "nums = []\n",
    "target = 0\n",
    "result = findTarget(nums,target)\n",
    "result"
   ]
  },
  {
   "cell_type": "code",
   "execution_count": null,
   "metadata": {
    "collapsed": true
   },
   "outputs": [],
   "source": [
    "# Java\n",
    "import java.util.*;\n",
    "\n",
    "class Exercise {\n",
    "    boolean FindTarget(int nums[], int target){\n",
    "        Set<Integer> appeared = new HashSet<>();\n",
    "        for(int num: nums){\n",
    "            if(appeared.contains(target - num)){\n",
    "                return true;\n",
    "            }else{\n",
    "                appeared.add(num);\n",
    "            }\n",
    "        }\n",
    "        return false;\n",
    "    }\n",
    "}\n",
    "\n",
    "# Java test\n",
    "public class Main{\n",
    "    public static void main(String[] args){\n",
    "        Exercise exercise = new Exercise();\n",
    "        System.out.println(solution.FindTarget(new int[]{4, 5, 7, 10}, target:12)) #true\n",
    "        System.out.println(solution.FindTarget(new int[]{4, 5, 7, 10}, target:8))  #false\n",
    "        System.out.println(solution.FindTarget(new int[]{4, 4, 7, 10}, target:8))  #true\n",
    "        System.out.println(solution.FindTarget(new int[]{10, 1, 4, 1, -1}, target:0))  #false\n",
    "        System.out.println(solution.FindTarget(new int[]{10, 1, 4, 1, -1}, target:0))  #true\n",
    "    }\n",
    "}"
   ]
  }
 ],
 "metadata": {
  "kernelspec": {
   "display_name": "Python 3",
   "language": "python",
   "name": "python3"
  },
  "language_info": {
   "codemirror_mode": {
    "name": "ipython",
    "version": 3
   },
   "file_extension": ".py",
   "mimetype": "text/x-python",
   "name": "python",
   "nbconvert_exporter": "python",
   "pygments_lexer": "ipython3",
   "version": "3.5.2"
  },
  "widgets": {
   "state": {},
   "version": "1.1.2"
  }
 },
 "nbformat": 4,
 "nbformat_minor": 2
}
