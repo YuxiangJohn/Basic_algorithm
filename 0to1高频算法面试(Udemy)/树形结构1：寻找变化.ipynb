{
 "cells": [
  {
   "cell_type": "markdown",
   "metadata": {},
   "source": [
    "# 题目\n",
    "一个数组，前段是0，后段是1.\n",
    "\n",
    "能否找到出现的第一个1.\n",
    "\n",
    "输入1：  \n",
    "nums = [0,0,0,1,1,1,1]  \n",
    "输出1：  \n",
    "3  \n",
    "\n",
    "输入2：  \n",
    "nums = [0,0,1,1,1,1,1,1,1]    \n",
    "输出2：  \n",
    "2  "
   ]
  },
  {
   "cell_type": "markdown",
   "metadata": {},
   "source": [
    "# 题目解析\n",
    "问题：  \n",
    "数组是否排序？  \n",
    "同一个数字是否可重复使用？  \n",
    "数组中是否有相同数字？"
   ]
  },
  {
   "cell_type": "markdown",
   "metadata": {},
   "source": [
    "# 思路1\n",
    "## Brute force 暴力解法  \n",
    "从左到右扫描\n",
    "\n",
    "#### 时间复杂度\n",
    "最优O(1),最坏O(n)  \n",
    "\n",
    "\n",
    "## 优化Brute force，二分查找\n",
    "左端定义一个指针left, 右端定义一个指针right, 中间指针mid = (right+left)/2. mid 把数组切成三块。 如果mid指向值=0, 则表示第一个出现的1在mid右侧，所以讲指针left移动到mid+1. 如果mid指向值=1，则表示0在左侧，right = mid.\n",
    "\n",
    "如何证明这个是对的？  \n",
    "首先，每次选完值，必须删除一部分0,或者1。 在删除到只剩下两部分的时候，例如[0,1], mid指向的一定是0，所以会有删除左边的0，剩下一个元素，left = right 的终止条件，不会运行超时。如果是[1,1], 则会把右边的1删掉。可以收敛。\n",
    "\n",
    "需要注意的是，mid=(left+right+1)/2 是错的，因为当只剩下两个元素的时候[1,1]，mid指向右边, 并没有删除元素。所以要看最终步骤是否终结。\n",
    "\n",
    "#### 时间复杂度\n",
    "O(logn) \n",
    "\n",
    "### 小技巧\n",
    "\n",
    "为了防止left+right 越界，mid = left+ (right-left)/2"
   ]
  },
  {
   "cell_type": "markdown",
   "metadata": {},
   "source": [
    "# 代码"
   ]
  },
  {
   "cell_type": "code",
   "execution_count": 10,
   "metadata": {
    "collapsed": true
   },
   "outputs": [],
   "source": [
    "# python\n",
    "# python 中的字典{}由哈希表实现可以使用字典\n",
    "\n",
    "def firstOne(nums):\n",
    "    left = 0\n",
    "    right = len(nums) - 1\n",
    "    while left != right:\n",
    "        mid = int(right+(left-right)/2)\n",
    "        if nums[mid] == 0:\n",
    "            left = mid + 1\n",
    "        else:\n",
    "            right = mid\n",
    "    return left"
   ]
  },
  {
   "cell_type": "code",
   "execution_count": 12,
   "metadata": {},
   "outputs": [
    {
     "data": {
      "text/plain": [
       "0"
      ]
     },
     "execution_count": 12,
     "metadata": {},
     "output_type": "execute_result"
    }
   ],
   "source": [
    "nums = [1,1,1,1,1,1,1]\n",
    "firstOne(nums)"
   ]
  },
  {
   "cell_type": "code",
   "execution_count": 13,
   "metadata": {},
   "outputs": [
    {
     "data": {
      "text/plain": [
       "3"
      ]
     },
     "execution_count": 13,
     "metadata": {},
     "output_type": "execute_result"
    }
   ],
   "source": [
    "nums = [0,0,0,0]\n",
    "firstOne(nums)"
   ]
  },
  {
   "cell_type": "code",
   "execution_count": 14,
   "metadata": {},
   "outputs": [
    {
     "data": {
      "text/plain": [
       "4"
      ]
     },
     "execution_count": 14,
     "metadata": {},
     "output_type": "execute_result"
    }
   ],
   "source": [
    "nums = [0,0,0,0,1,1,1]\n",
    "firstOne(nums)"
   ]
  },
  {
   "cell_type": "code",
   "execution_count": null,
   "metadata": {
    "collapsed": true
   },
   "outputs": [],
   "source": [
    "# Java\n",
    "import java.util.*;\n",
    "\n",
    "class solution{\n",
    "    public int firstOne(int[] nums){\n",
    "        int left = 0;\n",
    "        int right = nums.length - 1;\n",
    "        while(left<right){\n",
    "            int mid = left + (right - left)/2;\n",
    "            if(nums[mid]){\n",
    "                right = mid;\n",
    "            }else{\n",
    "                left = mid + 1;\n",
    "            }\n",
    "        }\n",
    "    }\n",
    "}\n",
    "\n",
    "public class Main{\n",
    "    public static void main(String[] args){\n",
    "        Solution solution = new Solution();\n",
    "        System.out.println(solution.firstOne(new int[]{0,0,0}));\n",
    "    }\n",
    "}"
   ]
  },
  {
   "cell_type": "markdown",
   "metadata": {},
   "source": [
    "# Follow up\n",
    "\n",
    "1. 0000011111100000， 如何找到第一个1. 相当于一个脉冲的上升沿。二分拆成左右。那么是拆成左然后把左遍历完的深度优先还是广度优先呢？ 答案是广度优先，如果1111的长度是L, 一定能在n/2..n/4...<L 那层找到。\n",
    "\n",
    "2. 01000101101， 如何找到第一个1？\n"
   ]
  },
  {
   "cell_type": "markdown",
   "metadata": {},
   "source": [
    "# 总结\n",
    "二分。找mid其实是三分。 如果证明一定能找得到。注意找到收敛的条件。分治法，树形结构，每次降低一半，O(logn)"
   ]
  },
  {
   "cell_type": "code",
   "execution_count": null,
   "metadata": {
    "collapsed": true
   },
   "outputs": [],
   "source": []
  }
 ],
 "metadata": {
  "kernelspec": {
   "display_name": "Python 3",
   "language": "python",
   "name": "python3"
  },
  "language_info": {
   "codemirror_mode": {
    "name": "ipython",
    "version": 3
   },
   "file_extension": ".py",
   "mimetype": "text/x-python",
   "name": "python",
   "nbconvert_exporter": "python",
   "pygments_lexer": "ipython3",
   "version": "3.5.2"
  },
  "widgets": {
   "state": {},
   "version": "1.1.2"
  }
 },
 "nbformat": 4,
 "nbformat_minor": 2
}
