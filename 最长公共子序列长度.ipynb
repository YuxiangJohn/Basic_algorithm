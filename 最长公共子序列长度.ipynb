{
 "cells": [
  {
   "cell_type": "markdown",
   "metadata": {},
   "source": [
    "# 最长公共子序列长度——动态规划"
   ]
  },
  {
   "cell_type": "markdown",
   "metadata": {},
   "source": [
    "给两个字符串，求两个字符串最长的公共子序列的长度。（子序列不是子串，可以不是连续的）"
   ]
  },
  {
   "cell_type": "markdown",
   "metadata": {},
   "source": [
    "例题：给定一个字符串s，你可以从中删除一些字符，使得剩下的串是一个回文串。如何删除才能使得回文串最长呢？\n",
    "输出需要删除的字符个数。"
   ]
  },
  {
   "cell_type": "markdown",
   "metadata": {},
   "source": [
    "思路：首先将字符串反转，然后寻找两个字符串的最长公共子序列的长度，然后使用字符串的长度减去这个长度。\n",
    "\n",
    "首先创建一个二维数组，长与宽分别为两个字符串的长与宽加一。\n",
    "\n",
    "c[i,j]=0 若i=0或j=0\n",
    "c[i,j]=c[i-1,j-1]+1 若i,j>0, x[i]=y[j]\n",
    "c[i,j]=max{c[i,j-1], c[i-1,j]} 若i,j>0, x[i]不等于y[j]"
   ]
  },
  {
   "cell_type": "code",
   "execution_count": 15,
   "metadata": {},
   "outputs": [],
   "source": [
    "#定义求最长公共子序列长度的函数\n",
    "def MaxSubLen(x, y):\n",
    "    c = [['0' for i in range(len(x)+1)] for j in range(len(y)+1)]\n",
    "    for i in range(len(x)+1):\n",
    "        for j in range(len(y)+1):\n",
    "            if i==0 or j==0:\n",
    "                c[i][j]=0\n",
    "            elif x[i-1]==y[j-1]:\n",
    "                c[i][j]=c[i-1][j-1]+1\n",
    "            else:\n",
    "                c[i][j]=max(c[i][j-1], c[i-1][j])\n",
    "    return c[len(x)][len(y)]\n",
    "    "
   ]
  },
  {
   "cell_type": "code",
   "execution_count": 22,
   "metadata": {},
   "outputs": [
    {
     "data": {
      "text/plain": [
       "3"
      ]
     },
     "execution_count": 22,
     "metadata": {},
     "output_type": "execute_result"
    }
   ],
   "source": [
    "x=['1','5','4','2','3']\n",
    "y=['5','1','2','3','7']\n",
    "\n",
    "MaxSubLen(x,y)"
   ]
  },
  {
   "cell_type": "code",
   "execution_count": 29,
   "metadata": {},
   "outputs": [
    {
     "data": {
      "text/plain": [
       "2"
      ]
     },
     "execution_count": 29,
     "metadata": {},
     "output_type": "execute_result"
    }
   ],
   "source": [
    "x=['a','b','c','e','a','b','a']\n",
    "y=x[::-1]##########################切片反转\n",
    "len(x)-MaxSubLen(x,y)"
   ]
  },
  {
   "cell_type": "code",
   "execution_count": null,
   "metadata": {
    "collapsed": true
   },
   "outputs": [],
   "source": []
  }
 ],
 "metadata": {
  "kernelspec": {
   "display_name": "Python 3",
   "language": "python",
   "name": "python3"
  },
  "language_info": {
   "codemirror_mode": {
    "name": "ipython",
    "version": 3
   },
   "file_extension": ".py",
   "mimetype": "text/x-python",
   "name": "python",
   "nbconvert_exporter": "python",
   "pygments_lexer": "ipython3",
   "version": "3.5.2"
  },
  "widgets": {
   "state": {},
   "version": "1.1.2"
  }
 },
 "nbformat": 4,
 "nbformat_minor": 2
}
