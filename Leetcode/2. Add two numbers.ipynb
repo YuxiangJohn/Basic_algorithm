{
 "cells": [
  {
   "cell_type": "markdown",
   "metadata": {},
   "source": [
    "# Add two numbers"
   ]
  },
  {
   "cell_type": "markdown",
   "metadata": {},
   "source": [
    "You are given two non-empty linked lists representing two non-negative integers. The digits are stored in reverse order and each of their nodes contain a single digit. Add the two numbers and return it as a linked list.\n",
    "You may assume the two numbers do not contain any leading zero, except the number 0 itself."
   ]
  },
  {
   "cell_type": "markdown",
   "metadata": {},
   "source": [
    "Example\n",
    "\n",
    "Input: (2 -> 4 -> 3) + (5 -> 6 -> 4)\n",
    "\n",
    "Output: 7 -> 0 -> 8\n",
    "\n",
    "Explanation: 342 + 465 = 807."
   ]
  },
  {
   "cell_type": "markdown",
   "metadata": {},
   "source": [
    "## problem repeat"
   ]
  },
  {
   "cell_type": "markdown",
   "metadata": {},
   "source": [
    "有两个非空链表，代表两个非负整数，数字在链表内逆序存储，每个链表内的数字是单个数字，求两个数的和，并用同样的逆序方式存储在链表中。"
   ]
  },
  {
   "cell_type": "markdown",
   "metadata": {},
   "source": [
    "## Solution"
   ]
  },
  {
   "cell_type": "markdown",
   "metadata": {},
   "source": [
    "#### 解法一\n",
    "\n",
    "设一个函数number(), 将一个链表转换成整型的数， 用这个函数计算两个链表的整数然后求和。 求和完后，将这个整数变为字符串数组形式，然后将逆序后的数组的每一个元素变为整型后写入链表。"
   ]
  },
  {
   "cell_type": "markdown",
   "metadata": {},
   "source": [
    "#### 解法二\n",
    "考虑到number()函数如果计算的数字过大会越界，我们改良number()函数为stringNumber(), 这个函数依次将链表中的每一位存入数组。在求和函数中，调用这个函数以此求得两个数组并逆序，设置flag表示是否有进位，初始值为0. 然后每次弹出两个数组的整数并相加再加上flag, 直到两个数组都为空了结束。"
   ]
  },
  {
   "cell_type": "markdown",
   "metadata": {},
   "source": [
    "## Code"
   ]
  },
  {
   "cell_type": "markdown",
   "metadata": {},
   "source": [
    "### 完整"
   ]
  },
  {
   "cell_type": "markdown",
   "metadata": {},
   "source": [
    "#### 解法一\n",
    "\n",
    "设一个函数number(), 将一个链表转换成整型的数， 用这个函数计算两个链表的整数然后求和。 求和完后，将这个整数变为字符串数组形式，然后将逆序后的数组的每一个元素变为整型后写入链表。"
   ]
  },
  {
   "cell_type": "code",
   "execution_count": null,
   "metadata": {
    "collapsed": true
   },
   "outputs": [],
   "source": [
    "# Definition for singly-linked list.\n",
    "# class ListNode:\n",
    "#     def __init__(self, x):\n",
    "#         self.val = x\n",
    "#         self.next = None\n",
    "\n",
    "class Solution:\n",
    "    def number(self, l):\n",
    "        count = 0\n",
    "        result = 0\n",
    "        while l:\n",
    "            result += l.val* 10**count\n",
    "            l = l.next\n",
    "            count +=1\n",
    "        return result\n",
    "    \n",
    "    def addTwoNumbers(self, l1, l2):\n",
    "        \"\"\"\n",
    "        :type l1: ListNode\n",
    "        :type l2: ListNode\n",
    "        :rtype: ListNode\n",
    "        \"\"\"\n",
    "        result = self.number(l1)+ self.number(l2)\n",
    "        result = str(result)\n",
    "        head = None\n",
    "        for i, res in enumerate(result[::-1]):\n",
    "            if i is 0:\n",
    "                l = ListNode(int(res))\n",
    "                head = l\n",
    "            else:\n",
    "                l.next = ListNode(int(res))\n",
    "                l = l.next\n",
    "        return head"
   ]
  },
  {
   "cell_type": "markdown",
   "metadata": {},
   "source": [
    "#### 解法二\n",
    "考虑到number()函数如果计算的数字过大会越界，我们改良number()函数为stringNumber(), 这个函数依次将链表中的每一位存入数组。在求和函数中，调用这个函数以此求得两个数组并逆序，设置flag表示是否有进位，初始值为0. 然后每次弹出两个数组的整数并相加再加上flag, 直到两个数组都为空了结束。"
   ]
  },
  {
   "cell_type": "code",
   "execution_count": null,
   "metadata": {
    "collapsed": true
   },
   "outputs": [],
   "source": [
    "# Definition for singly-linked list.\n",
    "# class ListNode:\n",
    "#     def __init__(self, x):\n",
    "#         self.val = x\n",
    "#         self.next = None\n",
    "\n",
    "class Solution:\n",
    "    def stringNumber(self, l):\n",
    "        result = []\n",
    "        while l:\n",
    "            result.append(l.val)\n",
    "            l = l.next\n",
    "        return result\n",
    "    \n",
    "    def addTwoNumbers(self, l1, l2):\n",
    "        \"\"\"\n",
    "        :type l1: ListNode\n",
    "        :type l2: ListNode\n",
    "        :rtype: ListNode\n",
    "        \"\"\"\n",
    "        number1 = self.stringNumber(l1)[::-1]\n",
    "        number2 = self.stringNumber(l2)[::-1]\n",
    "        result = []\n",
    "        flag = 0\n",
    "        while number1 or number2 or flag:\n",
    "            if number1 and number2:\n",
    "                res = number1.pop() + number2.pop() + flag\n",
    "                if res > 9:\n",
    "                    flag = 1\n",
    "                else:\n",
    "                    flag = 0\n",
    "                result.append(res%10)\n",
    "            elif number1:\n",
    "                res = number1.pop() + flag\n",
    "                if res > 9:\n",
    "                    flag = 1\n",
    "                else:\n",
    "                    flag = 0\n",
    "                result.append(res%10)\n",
    "            elif number2:\n",
    "                res = number2.pop() + flag\n",
    "                if res > 9:\n",
    "                    flag = 1\n",
    "                else:\n",
    "                    flag = 0\n",
    "                result.append(res%10)\n",
    "            else:\n",
    "                if flag:\n",
    "                    result.append(flag)\n",
    "                    flag = 0\n",
    "        \n",
    "\n",
    "        head = None\n",
    "        for i, res in enumerate(result):\n",
    "            if i is 0:\n",
    "                l = ListNode(int(res))\n",
    "                head = l\n",
    "            else:\n",
    "                l.next = ListNode(int(res))\n",
    "                l = l.next\n",
    "        return head\n",
    "    "
   ]
  },
  {
   "cell_type": "markdown",
   "metadata": {},
   "source": [
    "## Test case"
   ]
  },
  {
   "cell_type": "markdown",
   "metadata": {},
   "source": [
    "l1: 0->1\n",
    "l2: 0->1—>2\n",
    "\n",
    "l1: 9->9\n",
    "l2: 1\n",
    "\n",
    "l1: 1->2->3........->9\n",
    "l1: 1->2->3....... ->9"
   ]
  },
  {
   "cell_type": "markdown",
   "metadata": {},
   "source": [
    "## Complexity analysis"
   ]
  },
  {
   "cell_type": "markdown",
   "metadata": {},
   "source": [
    "Time complexity: O(max(m, n)). assume that m and n represents the length of l1 and l2 respectively, the algorithm above iterates at most max(m, n) times."
   ]
  },
  {
   "cell_type": "markdown",
   "metadata": {},
   "source": [
    "### 调试"
   ]
  },
  {
   "cell_type": "code",
   "execution_count": 1,
   "metadata": {
    "collapsed": true
   },
   "outputs": [],
   "source": [
    "# Definition for singly-linked list.\n",
    "class ListNode:\n",
    "    def __init__(self, x):\n",
    "        self.val = x\n",
    "        self.next = None"
   ]
  },
  {
   "cell_type": "code",
   "execution_count": 72,
   "metadata": {
    "collapsed": true
   },
   "outputs": [],
   "source": [
    "l1 = ListNode(9)"
   ]
  },
  {
   "cell_type": "code",
   "execution_count": 73,
   "metadata": {},
   "outputs": [],
   "source": [
    "l1.next = ListNode(9)"
   ]
  },
  {
   "cell_type": "code",
   "execution_count": 27,
   "metadata": {},
   "outputs": [],
   "source": [
    "l1.next.next = ListNode(3)"
   ]
  },
  {
   "cell_type": "code",
   "execution_count": 74,
   "metadata": {
    "collapsed": true
   },
   "outputs": [],
   "source": [
    "l2 = ListNode(1)\n",
    "#l2.next = ListNode(6)\n",
    "#l2.next.next = ListNode(4)"
   ]
  },
  {
   "cell_type": "code",
   "execution_count": 14,
   "metadata": {
    "collapsed": true
   },
   "outputs": [],
   "source": [
    "def number(l):\n",
    "    count = 0\n",
    "    result = 0\n",
    "    while l:\n",
    "        result += l.val* 10**count\n",
    "        l = l.next\n",
    "        count +=1\n",
    "    return result"
   ]
  },
  {
   "cell_type": "code",
   "execution_count": 39,
   "metadata": {
    "collapsed": true
   },
   "outputs": [],
   "source": [
    "def stringNumber(l):\n",
    "    result = []\n",
    "    while l:\n",
    "        result.append(l.val)\n",
    "        l = l.next\n",
    "    return result"
   ]
  },
  {
   "cell_type": "code",
   "execution_count": 75,
   "metadata": {},
   "outputs": [
    {
     "name": "stdout",
     "output_type": "stream",
     "text": [
      "[9, 9]\n"
     ]
    }
   ],
   "source": [
    "number1=stringNumber(l1)\n",
    "print(number1)"
   ]
  },
  {
   "cell_type": "code",
   "execution_count": 76,
   "metadata": {},
   "outputs": [
    {
     "name": "stdout",
     "output_type": "stream",
     "text": [
      "[1]\n"
     ]
    }
   ],
   "source": [
    "number2=stringNumber(l2)\n",
    "print(number2)"
   ]
  },
  {
   "cell_type": "code",
   "execution_count": 59,
   "metadata": {
    "collapsed": true
   },
   "outputs": [],
   "source": [
    "res = number1.pop() + number2.pop() + 0"
   ]
  },
  {
   "cell_type": "code",
   "execution_count": 60,
   "metadata": {},
   "outputs": [
    {
     "data": {
      "text/plain": [
       "10"
      ]
     },
     "execution_count": 60,
     "metadata": {},
     "output_type": "execute_result"
    }
   ],
   "source": [
    "res"
   ]
  },
  {
   "cell_type": "code",
   "execution_count": 51,
   "metadata": {},
   "outputs": [
    {
     "data": {
      "text/plain": [
       "2"
      ]
     },
     "execution_count": 51,
     "metadata": {},
     "output_type": "execute_result"
    }
   ],
   "source": [
    "number1[::-1].pop()"
   ]
  },
  {
   "cell_type": "code",
   "execution_count": 54,
   "metadata": {},
   "outputs": [
    {
     "data": {
      "text/plain": [
       "4"
      ]
     },
     "execution_count": 54,
     "metadata": {},
     "output_type": "execute_result"
    }
   ],
   "source": [
    "number1.pop()"
   ]
  },
  {
   "cell_type": "code",
   "execution_count": 29,
   "metadata": {},
   "outputs": [
    {
     "name": "stdout",
     "output_type": "stream",
     "text": [
      "342\n"
     ]
    }
   ],
   "source": [
    "result=number(l1)\n",
    "print(result)"
   ]
  },
  {
   "cell_type": "code",
   "execution_count": 30,
   "metadata": {},
   "outputs": [
    {
     "name": "stdout",
     "output_type": "stream",
     "text": [
      "465\n"
     ]
    }
   ],
   "source": [
    "result=number(l2)\n",
    "print(result)"
   ]
  },
  {
   "cell_type": "code",
   "execution_count": 78,
   "metadata": {
    "collapsed": true
   },
   "outputs": [],
   "source": [
    "def addTwoNumbers(l1, l2):\n",
    "    \n",
    "    number1 = stringNumber(l1)[::-1]\n",
    "    number2 = stringNumber(l2)[::-1]\n",
    "    result = []\n",
    "    flag = 0\n",
    "    while number1 or number2 or flag:\n",
    "        if number1 and number2:\n",
    "            res = number1.pop() + number2.pop() + flag\n",
    "            if res > 9:\n",
    "                flag = 1\n",
    "            else:\n",
    "                flag = 0\n",
    "            result.append(res%10)\n",
    "        elif number1:\n",
    "            res = number1.pop() + flag\n",
    "            if res > 9:\n",
    "                flag = 1\n",
    "            else:\n",
    "                flag = 0\n",
    "            result.append(res%10)\n",
    "        elif number2:\n",
    "            res = number2.pop() + flag\n",
    "            if res > 9:\n",
    "                flag = 1\n",
    "            else:\n",
    "                flag = 0\n",
    "            result.append(res%10)\n",
    "        else:\n",
    "            if flag:\n",
    "                result.append(flag)\n",
    "                flag = 0\n",
    "        \n",
    "\n",
    "    head = None\n",
    "    for i, res in enumerate(result):\n",
    "        if i is 0:\n",
    "            l = ListNode(int(res))\n",
    "            head = l\n",
    "        else:\n",
    "            l.next = ListNode(int(res))\n",
    "            l = l.next\n",
    "    return head\n",
    "    \n",
    "    "
   ]
  },
  {
   "cell_type": "code",
   "execution_count": null,
   "metadata": {
    "collapsed": true
   },
   "outputs": [],
   "source": [
    "def addTwoNumbers(l1, l2):\n",
    "    result = number(l1)+ number(l2)\n",
    "    result = str(result)\n",
    "    head = None\n",
    "    for i, res in enumerate(result[::-1]):\n",
    "        if i is 0:\n",
    "            l = ListNode(int(res))\n",
    "            head = l\n",
    "        else:\n",
    "            l.next = ListNode(int(res))\n",
    "            l = l.next\n",
    "    return head"
   ]
  },
  {
   "cell_type": "code",
   "execution_count": 79,
   "metadata": {},
   "outputs": [
    {
     "name": "stdout",
     "output_type": "stream",
     "text": [
      "<__main__.ListNode object at 0x000001BF784D52E8>\n"
     ]
    }
   ],
   "source": [
    "result=addTwoNumbers(l1,l2)\n",
    "print(result)"
   ]
  },
  {
   "cell_type": "code",
   "execution_count": 80,
   "metadata": {},
   "outputs": [
    {
     "data": {
      "text/plain": [
       "0"
      ]
     },
     "execution_count": 80,
     "metadata": {},
     "output_type": "execute_result"
    }
   ],
   "source": [
    "result.val"
   ]
  },
  {
   "cell_type": "code",
   "execution_count": 81,
   "metadata": {},
   "outputs": [
    {
     "data": {
      "text/plain": [
       "0"
      ]
     },
     "execution_count": 81,
     "metadata": {},
     "output_type": "execute_result"
    }
   ],
   "source": [
    "result.next.val"
   ]
  },
  {
   "cell_type": "code",
   "execution_count": 82,
   "metadata": {},
   "outputs": [
    {
     "data": {
      "text/plain": [
       "1"
      ]
     },
     "execution_count": 82,
     "metadata": {},
     "output_type": "execute_result"
    }
   ],
   "source": [
    "result.next.next.val"
   ]
  },
  {
   "cell_type": "code",
   "execution_count": 19,
   "metadata": {},
   "outputs": [
    {
     "data": {
      "text/plain": [
       "1"
      ]
     },
     "execution_count": 19,
     "metadata": {},
     "output_type": "execute_result"
    }
   ],
   "source": [
    "31%10"
   ]
  },
  {
   "cell_type": "code",
   "execution_count": 17,
   "metadata": {},
   "outputs": [
    {
     "data": {
      "text/plain": [
       "0"
      ]
     },
     "execution_count": 17,
     "metadata": {},
     "output_type": "execute_result"
    }
   ],
   "source": [
    "10%10"
   ]
  },
  {
   "cell_type": "code",
   "execution_count": 18,
   "metadata": {},
   "outputs": [
    {
     "data": {
      "text/plain": [
       "3"
      ]
     },
     "execution_count": 18,
     "metadata": {},
     "output_type": "execute_result"
    }
   ],
   "source": [
    "3%10"
   ]
  },
  {
   "cell_type": "code",
   "execution_count": 20,
   "metadata": {},
   "outputs": [
    {
     "data": {
      "text/plain": [
       "31"
      ]
     },
     "execution_count": 20,
     "metadata": {},
     "output_type": "execute_result"
    }
   ],
   "source": [
    "31%1000"
   ]
  },
  {
   "cell_type": "code",
   "execution_count": 36,
   "metadata": {},
   "outputs": [
    {
     "data": {
      "text/plain": [
       "1"
      ]
     },
     "execution_count": 36,
     "metadata": {},
     "output_type": "execute_result"
    }
   ],
   "source": [
    "a = [1,2,3]\n",
    "a[::-1].pop()"
   ]
  },
  {
   "cell_type": "code",
   "execution_count": null,
   "metadata": {
    "collapsed": true
   },
   "outputs": [],
   "source": []
  }
 ],
 "metadata": {
  "kernelspec": {
   "display_name": "Python 3",
   "language": "python",
   "name": "python3"
  },
  "language_info": {
   "codemirror_mode": {
    "name": "ipython",
    "version": 3
   },
   "file_extension": ".py",
   "mimetype": "text/x-python",
   "name": "python",
   "nbconvert_exporter": "python",
   "pygments_lexer": "ipython3",
   "version": "3.5.2"
  },
  "widgets": {
   "state": {},
   "version": "1.1.2"
  }
 },
 "nbformat": 4,
 "nbformat_minor": 2
}
