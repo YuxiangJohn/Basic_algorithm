{
 "cells": [
  {
   "cell_type": "code",
   "execution_count": 1,
   "metadata": {
    "collapsed": true
   },
   "outputs": [],
   "source": [
    "# -*- coding:utf-8 -*-\n",
    "class Solution:\n",
    "    def minNumberInRotateArray(self, rotateArray):\n",
    "        # write code here\n",
    "        if len(rotateArray)==0:\n",
    "            return 0\n",
    "        i=0\n",
    "        j=len(rotateArray)-1\n",
    "         \n",
    "        if len(rotateArray)==1:\n",
    "            return rotateArray[0]\n",
    "        if len(rotateArray)==2:\n",
    "            return rotateArray[1]\n",
    "         \n",
    "        mid = int((i+j)/2)\n",
    "        if rotateArray[i]==rotateArray[i] and rotateArray[i]==rotateArray[mid]:\n",
    "            s=rotateArray[0]\n",
    "            for k in range(len(rotateArray)):\n",
    "                if rotateArray[k]<s:\n",
    "                    s=rotateArray[k]\n",
    "            return s\n",
    "        else:\n",
    "            while i+1<j:\n",
    "                mid = int((i+j)/2)\n",
    "                if rotateArray[mid]<rotateArray[0]:\n",
    "                    j=mid\n",
    "                elif rotateArray[mid]>rotateArray[0]:\n",
    "                    i=mid\n",
    "        return rotateArray[i+1]"
   ]
  },
  {
   "cell_type": "code",
   "execution_count": null,
   "metadata": {
    "collapsed": true
   },
   "outputs": [],
   "source": []
  }
 ],
 "metadata": {
  "kernelspec": {
   "display_name": "Python 3",
   "language": "python",
   "name": "python3"
  },
  "language_info": {
   "codemirror_mode": {
    "name": "ipython",
    "version": 3
   },
   "file_extension": ".py",
   "mimetype": "text/x-python",
   "name": "python",
   "nbconvert_exporter": "python",
   "pygments_lexer": "ipython3",
   "version": "3.5.2"
  },
  "widgets": {
   "state": {},
   "version": "1.1.2"
  }
 },
 "nbformat": 4,
 "nbformat_minor": 2
}
