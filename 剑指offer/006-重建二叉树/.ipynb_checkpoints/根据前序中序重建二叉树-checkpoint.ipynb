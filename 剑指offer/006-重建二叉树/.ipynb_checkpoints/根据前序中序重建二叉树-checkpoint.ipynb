{
 "cells": [
  {
   "cell_type": "code",
   "execution_count": 1,
   "metadata": {
    "collapsed": true
   },
   "outputs": [],
   "source": [
    "# -*- coding:utf-8 -*-\n",
    "# class TreeNode:\n",
    "#     def __init__(self, x):\n",
    "#         self.val = x\n",
    "#         self.left = None\n",
    "#         self.right = None\n",
    "class Solution:\n",
    "    # 返回构造的TreeNode根节点\n",
    "    def reConstructBinaryTree(self, pre, tin):\n",
    "        # write code here\n",
    "        if pre == []:\n",
    "            return None\n",
    "        if len(pre)==1:\n",
    "            return TreeNode(pre[0])\n",
    "        else:\n",
    "            root=TreeNode(pre[0])\n",
    "            root.left = self.reConstructBinaryTree(pre[1: tin.index(pre[0])+1], tin[: tin.index(pre[0])])\n",
    "            root.right = self.reConstructBinaryTree(pre[tin.index(pre[0])+1:], tin[tin.index(pre[0])+1:])\n",
    "        return root"
   ]
  },
  {
   "cell_type": "code",
   "execution_count": null,
   "metadata": {
    "collapsed": true
   },
   "outputs": [],
   "source": []
  }
 ],
 "metadata": {
  "kernelspec": {
   "display_name": "Python 3",
   "language": "python",
   "name": "python3"
  },
  "language_info": {
   "codemirror_mode": {
    "name": "ipython",
    "version": 3
   },
   "file_extension": ".py",
   "mimetype": "text/x-python",
   "name": "python",
   "nbconvert_exporter": "python",
   "pygments_lexer": "ipython3",
   "version": "3.5.2"
  },
  "widgets": {
   "state": {},
   "version": "1.1.2"
  }
 },
 "nbformat": 4,
 "nbformat_minor": 2
}
