{
 "cells": [
  {
   "cell_type": "code",
   "execution_count": 1,
   "metadata": {},
   "outputs": [
    {
     "ename": "SyntaxError",
     "evalue": "invalid syntax (<ipython-input-1-f5328826c37c>, line 1)",
     "output_type": "error",
     "traceback": [
      "\u001b[1;36m  File \u001b[1;32m\"<ipython-input-1-f5328826c37c>\"\u001b[1;36m, line \u001b[1;32m1\u001b[0m\n\u001b[1;33m    class Solution {\u001b[0m\n\u001b[1;37m                   ^\u001b[0m\n\u001b[1;31mSyntaxError\u001b[0m\u001b[1;31m:\u001b[0m invalid syntax\n"
     ]
    }
   ],
   "source": [
    "\n",
    "class Solution {\n",
    "public:\n",
    "    void replaceSpace(char *str,int length) {\n",
    "        int num=0;\n",
    "        for(int i=0;i<length;i++){\n",
    "            if(str[i] == ' '){\n",
    "                num++;\n",
    "            }\n",
    "        }\n",
    "        int newsize = length+2*num;\n",
    "        int index2 = newsize-1;\n",
    "        int index1 = length-1;\n",
    "        while(index1>=0 && index2>index1){\n",
    "            if(str[index1] == ' '){\n",
    "                str[index2--]='0';\n",
    "                str[index2--]='2';\n",
    "                str[index2--]='%';\n",
    "            }\n",
    "            else{str[index2--]=str[index1];}\n",
    "            index1--;\n",
    "             \n",
    "        }\n",
    "         \n",
    " \n",
    "    }\n",
    "};"
   ]
  },
  {
   "cell_type": "code",
   "execution_count": null,
   "metadata": {
    "collapsed": true
   },
   "outputs": [],
   "source": []
  }
 ],
 "metadata": {
  "kernelspec": {
   "display_name": "Python 3",
   "language": "python",
   "name": "python3"
  },
  "language_info": {
   "codemirror_mode": {
    "name": "ipython",
    "version": 3
   },
   "file_extension": ".py",
   "mimetype": "text/x-python",
   "name": "python",
   "nbconvert_exporter": "python",
   "pygments_lexer": "ipython3",
   "version": "3.5.2"
  },
  "widgets": {
   "state": {},
   "version": "1.1.2"
  }
 },
 "nbformat": 4,
 "nbformat_minor": 2
}
