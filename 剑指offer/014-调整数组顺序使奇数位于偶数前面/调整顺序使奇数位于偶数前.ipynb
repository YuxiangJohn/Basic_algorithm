{
 "cells": [
  {
   "cell_type": "code",
   "execution_count": 4,
   "metadata": {
    "collapsed": true
   },
   "outputs": [],
   "source": [
    "def solution(a, boolFunction):\n",
    "    length = len(a)\n",
    "    if length <= 1 :\n",
    "        return a\n",
    "    i=0\n",
    "    j=length-1\n",
    "    while i<j:\n",
    "        while boolFunction(a[i]) is False:\n",
    "            i += 1\n",
    "        while boolFunction(a[j]) is True:\n",
    "            j -= 1\n",
    "        if i < j:\n",
    "            a[i], a[j] = a[j], a[i]\n",
    "    return a\n",
    "\n",
    "\n",
    "\n",
    "\n",
    "def boolFunction(a):\n",
    "    if a%2 == 0:\n",
    "        return True #ou\n",
    "    return False #ji"
   ]
  },
  {
   "cell_type": "code",
   "execution_count": 7,
   "metadata": {
    "collapsed": false
   },
   "outputs": [
    {
     "data": {
      "text/plain": [
       "[1, 5, 3, 4, 2]"
      ]
     },
     "execution_count": 7,
     "metadata": {},
     "output_type": "execute_result"
    }
   ],
   "source": [
    "a=[1,2,3,4,5]\n",
    "solution(a, boolFunction)"
   ]
  },
  {
   "cell_type": "code",
   "execution_count": null,
   "metadata": {
    "collapsed": true
   },
   "outputs": [],
   "source": []
  }
 ],
 "metadata": {
  "kernelspec": {
   "display_name": "Python 2",
   "language": "python",
   "name": "python2"
  },
  "language_info": {
   "codemirror_mode": {
    "name": "ipython",
    "version": 2
   },
   "file_extension": ".py",
   "mimetype": "text/x-python",
   "name": "python",
   "nbconvert_exporter": "python",
   "pygments_lexer": "ipython2",
   "version": "2.7.13"
  }
 },
 "nbformat": 4,
 "nbformat_minor": 2
}
