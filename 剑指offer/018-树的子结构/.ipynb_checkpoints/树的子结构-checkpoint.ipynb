{
 "cells": [
  {
   "cell_type": "code",
   "execution_count": 1,
   "metadata": {
    "collapsed": true
   },
   "outputs": [],
   "source": [
    "class TreeNode:\n",
    "    def __init__(self, x):\n",
    "        self.val = x\n",
    "        self.left = None\n",
    "        self.right = None"
   ]
  },
  {
   "cell_type": "code",
   "execution_count": 3,
   "metadata": {},
   "outputs": [],
   "source": [
    "def hasSubTree(A, B):\n",
    "    if A is None or B is None:\n",
    "        return False\n",
    "    result = False\n",
    "    if A.val == B.val:\n",
    "        result = DoesHasSubTree(A, B)\n",
    "    if result is False:\n",
    "        result = hasSubTree(A.left, B)\n",
    "    if result is False:\n",
    "        result = hasSubTree(A.right, B)\n",
    "    \n",
    "    return result \n",
    "        "
   ]
  },
  {
   "cell_type": "code",
   "execution_count": 4,
   "metadata": {
    "collapsed": true
   },
   "outputs": [],
   "source": [
    "def DoesHasSubTree(A, B):\n",
    "    if B is None:\n",
    "        return True\n",
    "    if A is None:\n",
    "        return False\n",
    "    if A.val != B.val:\n",
    "        return False\n",
    "    else:\n",
    "        return DoesHasSubTree(A.left, B.left) and DoesHasSubTree(A.right, B.right)"
   ]
  },
  {
   "cell_type": "code",
   "execution_count": null,
   "metadata": {
    "collapsed": true
   },
   "outputs": [],
   "source": []
  }
 ],
 "metadata": {
  "kernelspec": {
   "display_name": "Python 3",
   "language": "python",
   "name": "python3"
  },
  "language_info": {
   "codemirror_mode": {
    "name": "ipython",
    "version": 3
   },
   "file_extension": ".py",
   "mimetype": "text/x-python",
   "name": "python",
   "nbconvert_exporter": "python",
   "pygments_lexer": "ipython3",
   "version": "3.5.2"
  },
  "widgets": {
   "state": {},
   "version": "1.1.2"
  }
 },
 "nbformat": 4,
 "nbformat_minor": 2
}
