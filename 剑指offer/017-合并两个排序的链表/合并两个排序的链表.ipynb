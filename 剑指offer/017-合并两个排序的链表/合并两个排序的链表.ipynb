{
 "cells": [
  {
   "cell_type": "code",
   "execution_count": 13,
   "metadata": {
    "collapsed": true
   },
   "outputs": [],
   "source": [
    "class ListNode:\n",
    "    def __init__(self, x):\n",
    "        self.val = x\n",
    "        self.next = None"
   ]
  },
  {
   "cell_type": "code",
   "execution_count": 2,
   "metadata": {},
   "outputs": [],
   "source": [
    "#非递归\n",
    "def merge(head1, head2):\n",
    "    if head1 is None:\n",
    "        return head2\n",
    "    if head2 is None:\n",
    "        return head1\n",
    "    \n",
    "    cur1 = head1\n",
    "    cur2 = head2\n",
    "    newhead = None\n",
    "    if head1.val < head2.val:\n",
    "        newhead = head1\n",
    "        cur1 = cur1.next\n",
    "        \n",
    "    else:\n",
    "        newhead = head2\n",
    "        cur2 = cur2.next\n",
    "        \n",
    "    cur = newhead\n",
    "    \n",
    "    \n",
    "    while cur1 and cur2:\n",
    "        if cur1.val < cur2.val:\n",
    "            cur.next = cur1\n",
    "            cur1 = cur1.next\n",
    "            \n",
    "            cur = cur.next\n",
    "        else:\n",
    "            cur.next = cur2\n",
    "            cur2 = cur2.next\n",
    "            \n",
    "            cur = cur.next\n",
    "    \n",
    "    if cur1 != None:\n",
    "        cur.next = cur1\n",
    "    if cur2 != None:\n",
    "        cur.next = cur2\n",
    "    return newhead\n",
    "  "
   ]
  },
  {
   "cell_type": "code",
   "execution_count": 14,
   "metadata": {},
   "outputs": [],
   "source": [
    "head1= ListNode(1)\n",
    "p1 = ListNode(3)\n",
    "p2 = ListNode(5)\n",
    "p3 = ListNode(7)\n",
    "head1.next = p1\n",
    "p1.next = p2\n",
    "p2.next = p3"
   ]
  },
  {
   "cell_type": "code",
   "execution_count": 15,
   "metadata": {},
   "outputs": [
    {
     "name": "stdout",
     "output_type": "stream",
     "text": [
      "1\n",
      "3\n",
      "5\n",
      "7\n"
     ]
    }
   ],
   "source": [
    "p=head1\n",
    "while p:\n",
    "    print(p.val)\n",
    "    p=p.next"
   ]
  },
  {
   "cell_type": "code",
   "execution_count": 16,
   "metadata": {
    "collapsed": true
   },
   "outputs": [],
   "source": [
    "head2= ListNode(2)\n",
    "p1 = ListNode(4)\n",
    "p2 = ListNode(6)\n",
    "p3 = ListNode(8)\n",
    "head2.next = p1\n",
    "p1.next = p2\n",
    "p2.next = p3"
   ]
  },
  {
   "cell_type": "code",
   "execution_count": 17,
   "metadata": {},
   "outputs": [
    {
     "name": "stdout",
     "output_type": "stream",
     "text": [
      "2\n",
      "4\n",
      "6\n",
      "8\n"
     ]
    }
   ],
   "source": [
    "p=head2\n",
    "while p:\n",
    "    print(p.val)\n",
    "    p=p.next"
   ]
  },
  {
   "cell_type": "code",
   "execution_count": 7,
   "metadata": {},
   "outputs": [],
   "source": [
    "head = merge(head1,head2)"
   ]
  },
  {
   "cell_type": "code",
   "execution_count": 8,
   "metadata": {},
   "outputs": [
    {
     "name": "stdout",
     "output_type": "stream",
     "text": [
      "1\n",
      "2\n",
      "3\n",
      "4\n",
      "5\n",
      "6\n",
      "7\n",
      "8\n"
     ]
    }
   ],
   "source": [
    "p=head\n",
    "while p:\n",
    "    print(p.val)\n",
    "    p=p.next"
   ]
  },
  {
   "cell_type": "code",
   "execution_count": 18,
   "metadata": {
    "collapsed": true
   },
   "outputs": [],
   "source": [
    "#递归\n",
    "def merge(head1, head2):\n",
    "    if head1 is None:\n",
    "        return head2\n",
    "    if head2 is None:\n",
    "        return head1\n",
    "    head = None\n",
    "    if head1.val < head2.val:\n",
    "        head = head1\n",
    "        head.next = merge(head1.next, head2)\n",
    "    else:\n",
    "        head = head2\n",
    "        head.next = merge(head1, head2.next)\n",
    "    \n",
    "    return head\n",
    "        "
   ]
  },
  {
   "cell_type": "code",
   "execution_count": 19,
   "metadata": {
    "collapsed": true
   },
   "outputs": [],
   "source": [
    "head = merge(head1,head2)"
   ]
  },
  {
   "cell_type": "code",
   "execution_count": 20,
   "metadata": {},
   "outputs": [
    {
     "name": "stdout",
     "output_type": "stream",
     "text": [
      "1\n",
      "2\n",
      "3\n",
      "4\n",
      "5\n",
      "6\n",
      "7\n",
      "8\n"
     ]
    }
   ],
   "source": [
    "p=head\n",
    "while p:\n",
    "    print(p.val)\n",
    "    p=p.next"
   ]
  },
  {
   "cell_type": "code",
   "execution_count": null,
   "metadata": {
    "collapsed": true
   },
   "outputs": [],
   "source": []
  }
 ],
 "metadata": {
  "kernelspec": {
   "display_name": "Python 3",
   "language": "python",
   "name": "python3"
  },
  "language_info": {
   "codemirror_mode": {
    "name": "ipython",
    "version": 3
   },
   "file_extension": ".py",
   "mimetype": "text/x-python",
   "name": "python",
   "nbconvert_exporter": "python",
   "pygments_lexer": "ipython3",
   "version": "3.5.2"
  },
  "widgets": {
   "state": {},
   "version": "1.1.2"
  }
 },
 "nbformat": 4,
 "nbformat_minor": 2
}
