{
 "cells": [
  {
   "cell_type": "markdown",
   "metadata": {},
   "source": [
    "把一个字符串的大写字母放到字符串的后面，各个字符的相对位置不变，且不能申请额外的空间。\n",
    "\n",
    "输入描述：输入数据有多组，每组包含一个字符串s，且保证:1<=s.length<=1000.\n",
    "\n",
    "输出描述：对于每组数据，输出移位后的字符串。"
   ]
  },
  {
   "cell_type": "markdown",
   "metadata": {},
   "source": [
    "输入例子："
   ]
  },
  {
   "cell_type": "markdown",
   "metadata": {},
   "source": [
    "AkleBiCeilD"
   ]
  },
  {
   "cell_type": "markdown",
   "metadata": {},
   "source": [
    "输出例子"
   ]
  },
  {
   "cell_type": "markdown",
   "metadata": {},
   "source": [
    "kleieilABCD"
   ]
  },
  {
   "cell_type": "code",
   "execution_count": null,
   "metadata": {
    "collapsed": false
   },
   "outputs": [
    {
     "name": "stdout",
     "output_type": "stream",
     "text": [
      "AkleBiCeilD\n",
      "kleieilABCD\n"
     ]
    }
   ],
   "source": [
    "while True:\n",
    "    try:\n",
    "        s = raw_input().strip()\n",
    "        for char in s:\n",
    "            if char.isupper():\n",
    "                s = s[0:s.index(char)] + s[s.index(char)+1:] +char\n",
    "        print s\n",
    "    except:\n",
    "        break"
   ]
  },
  {
   "cell_type": "code",
   "execution_count": null,
   "metadata": {
    "collapsed": true
   },
   "outputs": [],
   "source": []
  }
 ],
 "metadata": {
  "kernelspec": {
   "display_name": "Python 2",
   "language": "python",
   "name": "python2"
  },
  "language_info": {
   "codemirror_mode": {
    "name": "ipython",
    "version": 2
   },
   "file_extension": ".py",
   "mimetype": "text/x-python",
   "name": "python",
   "nbconvert_exporter": "python",
   "pygments_lexer": "ipython2",
   "version": "2.7.13"
  }
 },
 "nbformat": 4,
 "nbformat_minor": 2
}
