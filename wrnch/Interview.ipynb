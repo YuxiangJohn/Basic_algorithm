{
 "cells": [
  {
   "cell_type": "markdown",
   "metadata": {},
   "source": [
    "# Part 1\n",
    "## Brute Force\n",
    "\n",
    "### Time complexity --O(n^3)"
   ]
  },
  {
   "cell_type": "code",
   "execution_count": 130,
   "metadata": {
    "collapsed": true
   },
   "outputs": [],
   "source": [
    "# brute Force\n",
    "def matrixMul(a, b):\n",
    "    #n = len(a)\n",
    "    i=0\n",
    "    c = [0] * len(b[0])\n",
    "    while i < len(a):\n",
    "        c[i] = [0] * len(b[0])\n",
    "        i+=1\n",
    "    \n",
    "    i = 0\n",
    "    while i < len(a): \n",
    "        j=0\n",
    "        while j < len(b[0]):\n",
    "            k=0\n",
    "            while k < len(b):\n",
    "                c[i][j] += a[i][k] * b[k][j]\n",
    "                k += 1\n",
    "            j += 1\n",
    "        i += 1\n",
    "\n",
    "    return c\n",
    "    "
   ]
  },
  {
   "cell_type": "markdown",
   "metadata": {},
   "source": [
    "### test"
   ]
  },
  {
   "cell_type": "code",
   "execution_count": 131,
   "metadata": {},
   "outputs": [
    {
     "data": {
      "text/plain": [
       "[[11, 14, 17, 20], [23, 30, 37, 44], [35, 46, 57, 68], [47, 62, 77, 92]]"
      ]
     },
     "execution_count": 131,
     "metadata": {},
     "output_type": "execute_result"
    }
   ],
   "source": [
    "a = [[1,2], [3,4], [5,6], [7,8]]\n",
    "b = [[1,2,3,4], [5,6,7,8]]\n",
    "matrixMul(a,b)\n"
   ]
  },
  {
   "cell_type": "code",
   "execution_count": 138,
   "metadata": {},
   "outputs": [
    {
     "name": "stdout",
     "output_type": "stream",
     "text": [
      "time used: 8.755563338525008e-05\n"
     ]
    }
   ],
   "source": [
    "import time\n",
    "a = [[1,2,0,0], [3,4,0,0], [5,6,0,0], [7,8,0,0]]\n",
    "b = [[1,2,3,4], [5,6,7,8], [0,0,0,0], [0,0,0,0]]\n",
    "start = time.clock()\n",
    "matrixMul(a,b)\n",
    "e = time.clock() - start\n",
    "print(\"time used:\", e)"
   ]
  },
  {
   "cell_type": "markdown",
   "metadata": {},
   "source": [
    "# Part 2\n",
    "\n",
    "## Optimization 1 -- Pruning\n",
    "\n",
    "### Time complexity --O(n^3), a little better than brute force."
   ]
  },
  {
   "cell_type": "code",
   "execution_count": 133,
   "metadata": {
    "collapsed": true
   },
   "outputs": [],
   "source": [
    "# Pruning - small improvement\n",
    "def matrixMul(a, b):\n",
    "    #n = len(a)\n",
    "    i=0\n",
    "    c = [0] * len(b[0])\n",
    "    while i < len(a):\n",
    "        c[i] = [0] * len(b[0])\n",
    "        i+=1\n",
    "    \n",
    "    i = 0\n",
    "    while i < len(a): \n",
    "        j=0\n",
    "        while j < len(b[0]):\n",
    "            k=0\n",
    "            if a[i][k] != 0:   # avoid 0 value, if 0, skip\n",
    "                while k < len(b):\n",
    "                    c[i][j] += a[i][k] * b[k][j]\n",
    "                    k += 1\n",
    "            j += 1\n",
    "        i += 1\n",
    "    \n",
    "    return c\n",
    "    "
   ]
  },
  {
   "cell_type": "markdown",
   "metadata": {},
   "source": [
    "### test"
   ]
  },
  {
   "cell_type": "code",
   "execution_count": 139,
   "metadata": {},
   "outputs": [
    {
     "name": "stdout",
     "output_type": "stream",
     "text": [
      "time used: 8.622229887578214e-05\n"
     ]
    }
   ],
   "source": [
    "import time\n",
    "\n",
    "a = [[1,2,0,0], [3,4,0,0], [5,6,0,0], [7,8,0,0]]\n",
    "b = [[1,2,3,4], [5,6,7,8],[0,0,0,0],[0,0,0,0]]\n",
    "start = time.clock()\n",
    "matrixMul(a,b)\n",
    "e = time.clock() - start\n",
    "print(\"time used:\", e)"
   ]
  },
  {
   "cell_type": "markdown",
   "metadata": {},
   "source": [
    "## Optimization 2 -- block compute\n",
    "\n",
    "### Time complexity --O(n^2logn)\n",
    "Divide each matrix into blocks, and compute the multiplication for each blocks, then combine them together. When the blocks are divided into 1 order, c_value = a_value * b_value."
   ]
  },
  {
   "cell_type": "code",
   "execution_count": 127,
   "metadata": {
    "collapsed": true
   },
   "outputs": [],
   "source": [
    "# division\n",
    "def division(a):    \n",
    "    n=len(a)//2\n",
    "    \n",
    "    #a11, 12, 21, 22\n",
    "    i=0\n",
    "    a11 = [0] * n\n",
    "    a12 = [0] * n\n",
    "    a21 = [0] * n\n",
    "    a22 = [0] * n\n",
    "    while i < n:\n",
    "        a11[i] = [0] * n\n",
    "        a12[i] = [0] * n\n",
    "        a21[i] = [0] * n\n",
    "        a22[i] = [0] * n\n",
    "        \n",
    "        i+=1\n",
    "        \n",
    "    \n",
    "    i=0\n",
    "    while i < n:\n",
    "        j=0\n",
    "        while j < n:\n",
    "            a11[i][j]=a[i][j]\n",
    "            a12[i][j]=a[i][j+n]\n",
    "            a21[i][j]=a[i+n][j]\n",
    "            a22[i][j]=a[i+n][j+n]\n",
    "            j += 1\n",
    "        i += 1\n",
    "        \n",
    "    return (a11,a12,a21,a22)\n",
    " \n",
    "def matrix_combination(a11,a12,a21,a22):\n",
    "    n2 = len(a11)\n",
    "    n=n2*2\n",
    "    \n",
    "    #a\n",
    "    i=0\n",
    "    a = [0] * n\n",
    "    while i < n:\n",
    "        a[i] = [0] * n\n",
    "        i += 1\n",
    "\n",
    "    \n",
    "    i = 0\n",
    "    while i < n:\n",
    "        j = 0\n",
    "        while j < n:\n",
    "            if i <= (n2-1) and j <= (n2-1):\n",
    "                a[i][j] = a11[i][j]\n",
    "            elif i <= (n2-1) and j > (n2-1):\n",
    "                a[i][j] = a12[i][j-2]\n",
    "            elif i > (n2-1) and j <= (n2-1):\n",
    "                a[i][j] = a21[i-n2][j]\n",
    "            else:\n",
    "                a[i][j] = a22[i-n2][j-n2]\n",
    "            j += 1\n",
    "        i += 1\n",
    "            \n",
    "\n",
    "    return a\n",
    "def matrix_add(a,b):  \n",
    "    n = len(a)\n",
    "    \n",
    "    #c\n",
    "    i=0\n",
    "    c = [0] * n\n",
    "    while i < n:\n",
    "        c[i] = [0] * n\n",
    "        i += 1\n",
    "   \n",
    "    i = 0\n",
    "    while i < n:\n",
    "        j = 0\n",
    "        while j < n:\n",
    "            c[i][j] = a[i][j]+b[i][j]\n",
    "            j += 1\n",
    "        i += 1\n",
    "            \n",
    "\n",
    "    return c\n",
    " \n",
    "def matrix_devision_multiply(a,b):   \n",
    "\n",
    "    n=len(a)\n",
    "    \n",
    "    #c\n",
    "    i=0\n",
    "    c = [0] * n\n",
    "    while i < n:\n",
    "        c[i] = [0] * n\n",
    "        i += 1\n",
    "    \n",
    "    \n",
    "    if n==1:\n",
    "        c[0][0]=a[0][0]*b[0][0]\n",
    "    else:\n",
    "        (a11,a21,a12,a22)=division(a)\n",
    "        (b11,b21,b12,b22)=division(b)\n",
    "        (c11,c21,c12,c22)=division(c)\n",
    "        c11=matrix_add(matrix_devision_multiply(a11,b11),matrix_devision_multiply(a12,b21))\n",
    "        c12=matrix_add(matrix_devision_multiply(a11,b12),matrix_devision_multiply(a12,b22))\n",
    "        c21=matrix_add(matrix_devision_multiply(a21,b11),matrix_devision_multiply(a22,b21))\n",
    "        c22=matrix_add(matrix_devision_multiply(a21,b12),matrix_devision_multiply(a22,b22))\n",
    "        c=matrix_combination(c11,c12,c21,c22)\n",
    "        \n",
    "    return c\n"
   ]
  },
  {
   "cell_type": "markdown",
   "metadata": {},
   "source": [
    "### Test"
   ]
  },
  {
   "cell_type": "code",
   "execution_count": 140,
   "metadata": {},
   "outputs": [
    {
     "name": "stdout",
     "output_type": "stream",
     "text": [
      "time used: 0.000313333611870803\n"
     ]
    }
   ],
   "source": [
    "import time\n",
    "start = time.clock()\n",
    "a = [[1,2,0,0], [3,4,0,0], [5,6,0,0], [7,8,0,0]]\n",
    "b = [[1,2,3,4], [5,6,7,8], [0,0,0,0], [0,0,0,0]]\n",
    "start = time.clock()\n",
    "matrix_devision_multiply(b,a) #need to reverse \n",
    "e = time.clock() - start\n",
    "print(\"time used:\", e)"
   ]
  },
  {
   "cell_type": "code",
   "execution_count": 141,
   "metadata": {
    "collapsed": true
   },
   "outputs": [],
   "source": [
    "# maybe faster in large scale matrix"
   ]
  },
  {
   "cell_type": "markdown",
   "metadata": {},
   "source": [
    "### More to do"
   ]
  },
  {
   "cell_type": "markdown",
   "metadata": {},
   "source": [
    "1. Due to the limit time, I only deal with the order in 2^k. If not, the solution will be different. The zeros need to be added in the matrix. The conditions will change.\n",
    "\n",
    "2. Intuitively, I think it can be optimized because there may be a possibility of recalculating values during the calculation process, which is wasting time. So pruning or maybe dynamic planning needs to be considered."
   ]
  },
  {
   "cell_type": "code",
   "execution_count": null,
   "metadata": {
    "collapsed": true
   },
   "outputs": [],
   "source": []
  }
 ],
 "metadata": {
  "kernelspec": {
   "display_name": "Python 3",
   "language": "python",
   "name": "python3"
  },
  "language_info": {
   "codemirror_mode": {
    "name": "ipython",
    "version": 3
   },
   "file_extension": ".py",
   "mimetype": "text/x-python",
   "name": "python",
   "nbconvert_exporter": "python",
   "pygments_lexer": "ipython3",
   "version": "3.5.2"
  },
  "widgets": {
   "state": {},
   "version": "1.1.2"
  }
 },
 "nbformat": 4,
 "nbformat_minor": 2
}
